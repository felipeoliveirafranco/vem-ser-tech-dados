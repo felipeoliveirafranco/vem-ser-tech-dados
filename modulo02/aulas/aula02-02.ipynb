{
  "nbformat": 4,
  "nbformat_minor": 0,
  "metadata": {
    "colab": {
      "provenance": []
    },
    "kernelspec": {
      "name": "python3",
      "display_name": "Python 3"
    },
    "language_info": {
      "name": "python"
    }
  },
  "cells": [
    {
      "cell_type": "markdown",
      "source": [
        "**Grupo 3**\n",
        "\n",
        "*  Anna Schuenck\n",
        "*  Eliane Santos\n",
        "*  Lavínia Beatriz\n",
        "* Janaina Oliveira\n",
        "*  Rodrigo Ventura\n",
        "*  Victor Lemos\n",
        "\n"
      ],
      "metadata": {
        "id": "U37bZbtBb_El"
      }
    },
    {
      "cell_type": "markdown",
      "source": [
        "# Expressões Geradoras"
      ],
      "metadata": {
        "id": "5XV2R7afLMdI"
      }
    },
    {
      "cell_type": "markdown",
      "source": [
        "Em Python, uma expressão geradora é uma notação geradora compacta entre parênteses que produz um novo objeto gerador. Sua sintaxe é a mesma das compreensões, exceto pelo fato de estar entre parênteses em vez de colchetes ou chaves.\n",
        "\n",
        "As expressões geradoras em Python são uma forma de construir objetos iteráveis de forma mais eficiente em termos de memória e processamento. O resultado é um objeto gerador que sabe como fazer iterações por uma sequência de valores. Ao contrário de uma abrangência de listas, ele não calcula todos os valores de uma vez, mas espera pelo pedido.\n"
      ],
      "metadata": {
        "id": "SeYSlUItOtro"
      }
    },
    {
      "cell_type": "code",
      "source": [
        "# Exemplo:\n",
        "\n",
        "g = (x**2 for x in range(5))\n",
        "\n",
        "for num in g:\n",
        "  print(num)"
      ],
      "metadata": {
        "colab": {
          "base_uri": "https://localhost:8080/"
        },
        "id": "u2UDiuBZLroj",
        "outputId": "18dca945-073d-4e14-c625-a4bf1671b28b"
      },
      "execution_count": null,
      "outputs": [
        {
          "output_type": "stream",
          "name": "stdout",
          "text": [
            "0\n",
            "1\n",
            "4\n",
            "9\n",
            "16\n"
          ]
        }
      ]
    },
    {
      "cell_type": "code",
      "source": [
        "type(g)"
      ],
      "metadata": {
        "colab": {
          "base_uri": "https://localhost:8080/"
        },
        "id": "jyYXzsk_Q-Oz",
        "outputId": "12a7cdb0-38ce-403f-f7a2-0e26f7cc3ce0"
      },
      "execution_count": null,
      "outputs": [
        {
          "output_type": "execute_result",
          "data": {
            "text/plain": [
              "generator"
            ]
          },
          "metadata": {},
          "execution_count": 13
        }
      ]
    },
    {
      "cell_type": "code",
      "source": [
        "for num in g:\n",
        "  print(num)"
      ],
      "metadata": {
        "id": "dzTZBEPrL363"
      },
      "execution_count": null,
      "outputs": []
    },
    {
      "cell_type": "code",
      "source": [
        "list(g)"
      ],
      "metadata": {
        "colab": {
          "base_uri": "https://localhost:8080/"
        },
        "id": "RA8sc5wiadW0",
        "outputId": "901bd8ee-2284-4cc8-ef95-199f34097468"
      },
      "execution_count": null,
      "outputs": [
        {
          "output_type": "execute_result",
          "data": {
            "text/plain": [
              "[]"
            ]
          },
          "metadata": {},
          "execution_count": 17
        }
      ]
    },
    {
      "cell_type": "code",
      "source": [
        "g = (x**2 for x in range(5))\n",
        "\n",
        "next(g)\n",
        "next(g)\n",
        "\n",
        "for num in g:\n",
        "  print(num)"
      ],
      "metadata": {
        "colab": {
          "base_uri": "https://localhost:8080/"
        },
        "id": "j6uQsrr6NFdm",
        "outputId": "299cb22c-2ccf-4ffa-dc9e-56758f900bf9"
      },
      "execution_count": null,
      "outputs": [
        {
          "output_type": "stream",
          "name": "stdout",
          "text": [
            "4\n",
            "9\n",
            "16\n"
          ]
        }
      ]
    },
    {
      "cell_type": "markdown",
      "source": [
        "Uma expressão geradora não é um iterável, ela é um iterador. Uma lista é um iterável.\n",
        "\n",
        "Podemos utilizar expressões geradoras quando:\n",
        "\n",
        "    1) Iremos trabalhar com uma base de dados tão grande que a geração da lista pode ser excessivamente lenta ou consumir memória demais.  \n",
        "\n",
        "    2) Quando desejamos obter dados infinitos (uma sequência numérica sem fim, ou então um stream de dados que pode estar chegando por um sensor ou pela internet, por exemplo).  \n",
        "\n",
        "    3) Quando sabemos com certeza absoluta que só precisaremos iterar uma única vez por cada elemento e não precisaremos deles posteriormente.  \n",
        "    \n",
        "Caso você precise dos dados mais de uma vez, a expressão geradora deixa de ser atrativa e compensa mais utilizar compreensão de listas.  "
      ],
      "metadata": {
        "id": "ajy9t5NxLa7B"
      }
    },
    {
      "cell_type": "code",
      "source": [
        "# Exemplo 1\n",
        "gerador_impares = (x for x in range(20) if x % 2 == 1)\n",
        "\n",
        "lista_impares = list(gerador_impares)\n",
        "\n",
        "print(lista_impares)"
      ],
      "metadata": {
        "colab": {
          "base_uri": "https://localhost:8080/"
        },
        "id": "wR5va11-MM2j",
        "outputId": "7117d34a-5ca9-4840-ed58-1d82e1f38fa3"
      },
      "execution_count": null,
      "outputs": [
        {
          "output_type": "stream",
          "name": "stdout",
          "text": [
            "[1, 3, 5, 7, 9, 11, 13, 15, 17, 19]\n"
          ]
        }
      ]
    },
    {
      "cell_type": "markdown",
      "source": [
        "As expressões geradoras são mais eficientes em termos de memória do que as listas, pois geram os valores sob demanda, um por vez. Isso significa que apenas um valor é mantido na memória a qualquer momento, o que é especialmente útil quando se trabalha com grandes conjuntos de dados. Além disso, as expressões geradoras permitem que você veja o próximo elemento da sequência sem precisar gerar toda a sequência, o que pode ser útil quando você está trabalhando com conjuntos de dados muito grandes."
      ],
      "metadata": {
        "id": "9Qd7hgTBPP8P"
      }
    },
    {
      "cell_type": "code",
      "execution_count": null,
      "metadata": {
        "id": "1KrQ6EDCKdHS",
        "colab": {
          "base_uri": "https://localhost:8080/"
        },
        "outputId": "2ed34a4e-6642-4d0d-934e-7d5e7fcb9a7d"
      },
      "outputs": [
        {
          "output_type": "stream",
          "name": "stdout",
          "text": [
            "('O ovo 1 está na geladeira.', 'O ovo 2 está na geladeira.', 'O ovo 3 está na geladeira.', 'O ovo 4 está na geladeira.', 'O ovo 5 está na geladeira.', 'O ovo 6 está na geladeira.', 'O ovo 7 está na geladeira.', 'O ovo 8 está na geladeira.', 'O ovo 9 está na geladeira.', 'O ovo 10 está na geladeira.', 'O ovo 11 está na geladeira.', 'O ovo 12 está na geladeira.', 'O ovo 13 está na geladeira.', 'O ovo 14 está na geladeira.', 'O ovo 15 está na geladeira.', 'O ovo 16 está na geladeira.', 'O ovo 17 está na geladeira.', 'O ovo 18 está na geladeira.', 'O ovo 19 está na geladeira.', 'O ovo 20 está na geladeira.', 'O ovo 21 está na geladeira.', 'O ovo 22 está na geladeira.', 'O ovo 23 está na geladeira.', 'O ovo 24 está na geladeira.', 'O ovo 25 está na geladeira.', 'O ovo 26 está na geladeira.', 'O ovo 27 está na geladeira.', 'O ovo 28 está na geladeira.', 'O ovo 29 está na geladeira.', 'O ovo 30 está na geladeira.')\n"
          ]
        }
      ],
      "source": [
        "# Exemplo 2\n",
        "def guarda_ovo_na_geladeira(quantidade):\n",
        "  \"\"\"Gera uma expressão geradora para guardar ovos na geladeira.\"\"\"\n",
        "\n",
        "  for i in range(quantidade):\n",
        "    yield \"O ovo {} está na geladeira.\".format(i + 1)\n",
        "\n",
        "print(tuple(guarda_ovo_na_geladeira(30)))"
      ]
    },
    {
      "cell_type": "code",
      "source": [],
      "metadata": {
        "id": "A2pW6X_6M5ha"
      },
      "execution_count": null,
      "outputs": []
    }
  ]
}
