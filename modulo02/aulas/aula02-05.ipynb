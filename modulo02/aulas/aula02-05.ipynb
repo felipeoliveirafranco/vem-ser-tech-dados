{
 "cells": [
  {
   "cell_type": "markdown",
   "id": "c653a51e-9f58-4ccf-97c2-dbc3fe669f98",
   "metadata": {},
   "source": [
    "# Grupo 1\r\n",
    "\r\n",
    "\r\n",
    "*   Felipe Franco\r\n",
    "*   Lucas Ferreira\r\n",
    "*   Mariana Marroquim\r\n",
    "*   Rafael Guisso\r\n",
    "*   Ricardo Frcisco\r\n",
    "\r\n"
   ]
  },
  {
   "cell_type": "markdown",
   "id": "b71d7462-4233-427d-9dfc-dfe86d801f32",
   "metadata": {},
   "source": [
    "# [Dicionario](https://docs.python.org/3/tutorial/datastructures.html#dictionaries)\r\n",
    "Dicionários desempenham um papel fundamental na organização e manipulação de dados em Python. Eles são especialmente úteis quando se precisa associar informações relacionadas por meio de pares chave-valor. Os dicionários são frequentemente utilizados para representar informações que precisam ser acessadas e atualizadas dinamicamente à medida que um programa é executado. Eles oferecem uma estrutura flexível e eficaz para armazenar dados complexos, como configurações, registros de usuários, informações de produtos e muito mais.\r\n"
   ]
  },
  {
   "cell_type": "markdown",
   "id": "0c281663-8200-4701-8f42-dde177a08413",
   "metadata": {},
   "source": [
    "## Criação"
   ]
  },
  {
   "cell_type": "markdown",
   "id": "a52fab89-b4c2-47ab-9968-ea10cfb69b2d",
   "metadata": {},
   "source": [
    "### Chaves"
   ]
  },
  {
   "cell_type": "code",
   "execution_count": 1,
   "id": "27f5d6ce-cd9c-4d7c-bcdb-25b9c4d6dd50",
   "metadata": {},
   "outputs": [
    {
     "name": "stdout",
     "output_type": "stream",
     "text": [
      "{}\n"
     ]
    }
   ],
   "source": [
    "dict_em_python = { }\n",
    "\n",
    "print(dict_em_python)"
   ]
  },
  {
   "cell_type": "code",
   "execution_count": 2,
   "id": "e326cc8a-0197-4b79-bf8f-b7b63807984e",
   "metadata": {},
   "outputs": [
    {
     "name": "stdout",
     "output_type": "stream",
     "text": [
      "{'lista': 'mutável', 'tupla': 'imutável', 'dicionário': 'mapeável'}\n"
     ]
    }
   ],
   "source": [
    "# Usar uma lista de pares key: value separados por vírgula com chaves:\n",
    "\n",
    "containers_em_python = {'lista': 'mutável', 'tupla': 'imutável', 'dicionário': 'mapeável'}\n",
    "\n",
    "print(containers_em_python)"
   ]
  },
  {
   "cell_type": "code",
   "execution_count": 3,
   "id": "d09d33ec-3a3e-47e2-8eb2-dd1303e0be8b",
   "metadata": {},
   "outputs": [
    {
     "name": "stdout",
     "output_type": "stream",
     "text": [
      "{0: [True, False, False], 1: {'lista': 'mutável', 'tupla': 'imutável', 'dicionário': 'mapeável'}, 2: (25, True, {'lista': 'mutável', 'tupla': 'imutável', 'dicionário': 'mapeável'})}\n"
     ]
    }
   ],
   "source": [
    "dicit_em_python = {0: [True, False, False], 1: containers_em_python, 2: (25, True, containers_em_python)}\n",
    "\n",
    "print(dicit_em_python)"
   ]
  },
  {
   "cell_type": "markdown",
   "id": "f8936dd5-0cd5-42e1-b828-72a30e2b87be",
   "metadata": {},
   "source": [
    "### Função"
   ]
  },
  {
   "cell_type": "code",
   "execution_count": 4,
   "id": "2970cf1b-bcf5-4cc6-8282-ba70b7500c74",
   "metadata": {},
   "outputs": [
    {
     "name": "stdout",
     "output_type": "stream",
     "text": [
      "{}\n"
     ]
    }
   ],
   "source": [
    "dict_em_python2 = dict()\n",
    "\n",
    "print(dict_em_python2)"
   ]
  },
  {
   "cell_type": "code",
   "execution_count": 5,
   "id": "a5926d21-7206-4175-8aa3-3d23d552adce",
   "metadata": {},
   "outputs": [
    {
     "name": "stdout",
     "output_type": "stream",
     "text": [
      "({'lista': 'mutável', 'tupla': 'imutável', 'dicionário': 'mapeável'},)\n",
      "{'lista': 'iterável', 'tupla': 'iterável', 'dicionário': 'iterável'}\n"
     ]
    }
   ],
   "source": [
    "# Usar o construtor de tipo: dict()\n",
    "\n",
    "containers_em_Python = dict([('lista', 'mutável'), ('tupla', 'imutável'), ('dicionário', 'mapeável')]),\n",
    "\n",
    "containers_em_python2 = dict(lista='iterável', tupla='iterável', dicionário='iterável')\n",
    "\n",
    "print(containers_em_Python)\n",
    "print(containers_em_python2)"
   ]
  },
  {
   "cell_type": "markdown",
   "id": "e626098e-c0d7-4d03-a1cb-7fc04203d2e7",
   "metadata": {},
   "source": [
    "## Acessando Valores"
   ]
  },
  {
   "cell_type": "code",
   "execution_count": 6,
   "id": "ce36a99f-bb99-4368-b31b-836c2cba304c",
   "metadata": {},
   "outputs": [
    {
     "data": {
      "text/plain": [
       "{0: [True, False, False],\n",
       " 495981: {'lista': 'mutável', 'tupla': 'imutável', 'dicionário': 'mapeável'},\n",
       " 'carro_feliz': (25,\n",
       "  True,\n",
       "  {'lista': 'mutável', 'tupla': 'imutável', 'dicionário': 'mapeável'})}"
      ]
     },
     "execution_count": 6,
     "metadata": {},
     "output_type": "execute_result"
    }
   ],
   "source": [
    "containers_em_Python = {0: [True, False, False], 495981: containers_em_python, 'carro_feliz': (25, True, containers_em_python)}\n",
    "containers_em_Python"
   ]
  },
  {
   "cell_type": "code",
   "execution_count": 7,
   "id": "c96bf6e8-5623-43f8-a6ca-324c646ad3c3",
   "metadata": {},
   "outputs": [
    {
     "data": {
      "text/plain": [
       "[True, False, False]"
      ]
     },
     "execution_count": 7,
     "metadata": {},
     "output_type": "execute_result"
    }
   ],
   "source": [
    "containers_em_Python[0]"
   ]
  },
  {
   "cell_type": "code",
   "execution_count": 8,
   "id": "c325bab8-0e35-4135-a8bf-6b54efa203b9",
   "metadata": {},
   "outputs": [
    {
     "data": {
      "text/plain": [
       "dict_keys([0, 495981, 'carro_feliz'])"
      ]
     },
     "execution_count": 8,
     "metadata": {},
     "output_type": "execute_result"
    }
   ],
   "source": [
    "containers_em_Python.keys()"
   ]
  },
  {
   "cell_type": "code",
   "execution_count": 9,
   "id": "cdcd662d-023e-4b67-883d-14301534b2d1",
   "metadata": {},
   "outputs": [
    {
     "data": {
      "text/plain": [
       "dict_values([[True, False, False], {'lista': 'mutável', 'tupla': 'imutável', 'dicionário': 'mapeável'}, (25, True, {'lista': 'mutável', 'tupla': 'imutável', 'dicionário': 'mapeável'})])"
      ]
     },
     "execution_count": 9,
     "metadata": {},
     "output_type": "execute_result"
    }
   ],
   "source": [
    "containers_em_Python.values()"
   ]
  },
  {
   "cell_type": "code",
   "execution_count": 10,
   "id": "37a38ed0-8aae-4129-957b-fc634076a432",
   "metadata": {},
   "outputs": [
    {
     "ename": "KeyError",
     "evalue": "'lista'",
     "output_type": "error",
     "traceback": [
      "\u001b[1;31m---------------------------------------------------------------------------\u001b[0m",
      "\u001b[1;31mKeyError\u001b[0m                                  Traceback (most recent call last)",
      "Cell \u001b[1;32mIn[10], line 1\u001b[0m\n\u001b[1;32m----> 1\u001b[0m \u001b[43mcontainers_em_Python\u001b[49m\u001b[43m[\u001b[49m\u001b[38;5;124;43m'\u001b[39;49m\u001b[38;5;124;43mlista\u001b[39;49m\u001b[38;5;124;43m'\u001b[39;49m\u001b[43m]\u001b[49m \n",
      "\u001b[1;31mKeyError\u001b[0m: 'lista'"
     ]
    }
   ],
   "source": [
    "containers_em_Python['lista'] "
   ]
  },
  {
   "cell_type": "code",
   "execution_count": 11,
   "id": "4c21a322-57da-423c-ba42-29e0fd4e5f3b",
   "metadata": {},
   "outputs": [
    {
     "data": {
      "text/plain": [
       "True"
      ]
     },
     "execution_count": 11,
     "metadata": {},
     "output_type": "execute_result"
    }
   ],
   "source": [
    "containers_em_Python.get('lista') == None"
   ]
  },
  {
   "cell_type": "markdown",
   "id": "0718ea1a-713e-40ce-926a-044d579de84c",
   "metadata": {},
   "source": [
    "## Inserção"
   ]
  },
  {
   "cell_type": "code",
   "execution_count": 12,
   "id": "8e41a1f0-f461-49fa-9249-f4ef8e521c91",
   "metadata": {},
   "outputs": [
    {
     "data": {
      "text/plain": [
       "{'lista': 'mutável', 'tupla': 'imutável', 'dicionário': 'mapeável'}"
      ]
     },
     "execution_count": 12,
     "metadata": {},
     "output_type": "execute_result"
    }
   ],
   "source": [
    "containers_em_Python = dict([('lista', 'mutável'), ('tupla', 'imutável'), ('dicionário', 'mapeável')])\n",
    "containers_em_Python"
   ]
  },
  {
   "cell_type": "code",
   "execution_count": 13,
   "id": "d731f4be-6a0c-4d25-acb7-26823b17479e",
   "metadata": {},
   "outputs": [],
   "source": [
    "containers_em_Python[\"contrbuindo\"] = 259"
   ]
  },
  {
   "cell_type": "code",
   "execution_count": 14,
   "id": "5a16ef8a-4379-494b-a204-107e1b0e39ae",
   "metadata": {},
   "outputs": [
    {
     "data": {
      "text/plain": [
       "{'lista': 'mutável',\n",
       " 'tupla': 'imutável',\n",
       " 'dicionário': 'mapeável',\n",
       " 'contrbuindo': 259}"
      ]
     },
     "execution_count": 14,
     "metadata": {},
     "output_type": "execute_result"
    }
   ],
   "source": [
    "containers_em_Python"
   ]
  },
  {
   "cell_type": "code",
   "execution_count": 15,
   "id": "ec2f2440-da95-4210-8ab3-7cf1a1408d11",
   "metadata": {},
   "outputs": [],
   "source": [
    "containers_em_Python[\"contrbuindo\"] = containers_em_Python[\"contrbuindo\"], 2959"
   ]
  },
  {
   "cell_type": "code",
   "execution_count": 16,
   "id": "8d6b136c-0b6a-4aa3-86ed-d818b0684466",
   "metadata": {},
   "outputs": [
    {
     "data": {
      "text/plain": [
       "{'lista': 'mutável',\n",
       " 'tupla': 'imutável',\n",
       " 'dicionário': 'mapeável',\n",
       " 'contrbuindo': (259, 2959)}"
      ]
     },
     "execution_count": 16,
     "metadata": {},
     "output_type": "execute_result"
    }
   ],
   "source": [
    "containers_em_Python"
   ]
  },
  {
   "cell_type": "markdown",
   "id": "b93b0d84-f544-4470-b946-1e3a71a5335d",
   "metadata": {},
   "source": [
    "## remoção"
   ]
  },
  {
   "cell_type": "code",
   "execution_count": 17,
   "id": "78e01fc8-cf94-4b81-91d7-4891e833ae51",
   "metadata": {},
   "outputs": [
    {
     "data": {
      "text/plain": [
       "{'lista': 'mutável', 'tupla': 'imutável', 'dicionário': 'mapeável'}"
      ]
     },
     "execution_count": 17,
     "metadata": {},
     "output_type": "execute_result"
    }
   ],
   "source": [
    "containers_em_Python = dict([('lista', 'mutável'), ('tupla', 'imutável'), ('dicionário', 'mapeável')])\n",
    "containers_em_Python"
   ]
  },
  {
   "cell_type": "code",
   "execution_count": 18,
   "id": "0e2a8b02-3684-42f8-a967-7dc8474ee15b",
   "metadata": {},
   "outputs": [
    {
     "data": {
      "text/plain": [
       "{'tupla': 'imutável', 'dicionário': 'mapeável'}"
      ]
     },
     "execution_count": 18,
     "metadata": {},
     "output_type": "execute_result"
    }
   ],
   "source": [
    "containers_em_Python.pop('lista')\n",
    "containers_em_Python"
   ]
  },
  {
   "cell_type": "code",
   "execution_count": 19,
   "id": "2a8de467-0e8a-4875-88d9-72afbf46a1a9",
   "metadata": {},
   "outputs": [
    {
     "data": {
      "text/plain": [
       "{'dicionário': 'mapeável'}"
      ]
     },
     "execution_count": 19,
     "metadata": {},
     "output_type": "execute_result"
    }
   ],
   "source": [
    "del containers_em_Python['tupla']\n",
    "containers_em_Python"
   ]
  },
  {
   "cell_type": "markdown",
   "id": "6e527ebc-416c-44e3-aca5-5bac3e0c9aa8",
   "metadata": {},
   "source": [
    "## update"
   ]
  },
  {
   "cell_type": "code",
   "execution_count": 20,
   "id": "2afebcad-bf67-49e4-9a93-4058c2a8c869",
   "metadata": {},
   "outputs": [
    {
     "data": {
      "text/plain": [
       "{'lista': 'mutável', 'tupla': 'imutável', 'dicionário': 'mapeável'}"
      ]
     },
     "execution_count": 20,
     "metadata": {},
     "output_type": "execute_result"
    }
   ],
   "source": [
    "containers_em_Python = dict([('lista', 'mutável'), ('tupla', 'imutável'), ('dicionário', 'mapeável')])\n",
    "containers_em_Python"
   ]
  },
  {
   "cell_type": "code",
   "execution_count": 21,
   "id": "bc932b35-07f6-4a68-a8c0-a4a721b24487",
   "metadata": {},
   "outputs": [
    {
     "data": {
      "text/plain": [
       "{'lista': 'LISTA_LEGAL', 'tupla': 'imutável', 'dicionário': 'mapeável'}"
      ]
     },
     "execution_count": 21,
     "metadata": {},
     "output_type": "execute_result"
    }
   ],
   "source": [
    "containers_em_Python['lista'] = 'LISTA_LEGAL'\n",
    "\n",
    "containers_em_Python"
   ]
  },
  {
   "cell_type": "code",
   "execution_count": 22,
   "id": "b7cd66a5-6552-4d0d-85ff-12532371f7ee",
   "metadata": {},
   "outputs": [
    {
     "data": {
      "text/plain": [
       "{'lista': 'LISTA_LEGAL', 'tupla': 'TUPLA_LEGAL', 'dicionário': 'mapeável'}"
      ]
     },
     "execution_count": 22,
     "metadata": {},
     "output_type": "execute_result"
    }
   ],
   "source": [
    "containers_em_Python.update({\"tupla\": \"TUPLA_LEGAL\"})\n",
    "containers_em_Python"
   ]
  },
  {
   "cell_type": "code",
   "execution_count": 23,
   "id": "81f42101-f3ef-4ebb-af60-33e04251e94b",
   "metadata": {},
   "outputs": [
    {
     "data": {
      "text/plain": [
       "{'lista': 'LISTA_LEGAL', 'tupla': 'TUPLA_LEGAL', 'dicionário': 'mapeável'}"
      ]
     },
     "execution_count": 23,
     "metadata": {},
     "output_type": "execute_result"
    }
   ],
   "source": [
    "containers_em_Python.update({\"tupla\": \"TUPLA_LEGAL\"})\n",
    "containers_em_Python"
   ]
  },
  {
   "cell_type": "markdown",
   "id": "a5353ad1-6e9b-4b63-923f-b449be91be5c",
   "metadata": {},
   "source": [
    "## Interações em loops com dicionarios"
   ]
  },
  {
   "cell_type": "code",
   "execution_count": 24,
   "id": "42321522-d92c-4e2e-a74a-a829417aecef",
   "metadata": {},
   "outputs": [
    {
     "data": {
      "text/plain": [
       "{'lista': 'mutável', 'tupla': 'imutável', 'dicionário': 'mapeável'}"
      ]
     },
     "execution_count": 24,
     "metadata": {},
     "output_type": "execute_result"
    }
   ],
   "source": [
    "containers_em_Python = dict([('lista', 'mutável'), ('tupla', 'imutável'), ('dicionário', 'mapeável')])\n",
    "containers_em_Python"
   ]
  },
  {
   "cell_type": "code",
   "execution_count": 25,
   "id": "84402f15-2a96-4f94-8b70-2cdb5b6913cc",
   "metadata": {},
   "outputs": [
    {
     "name": "stdout",
     "output_type": "stream",
     "text": [
      "lista\n",
      "tupla\n",
      "dicionário\n"
     ]
    }
   ],
   "source": [
    "for _ in containers_em_Python:\n",
    "  print(_)"
   ]
  },
  {
   "cell_type": "code",
   "execution_count": 26,
   "id": "520e2e85-3676-466b-85ec-34cc5cb74514",
   "metadata": {},
   "outputs": [
    {
     "name": "stdout",
     "output_type": "stream",
     "text": [
      "mutável\n",
      "imutável\n",
      "mapeável\n"
     ]
    }
   ],
   "source": [
    "for value in containers_em_Python.values():\n",
    "  print(value)"
   ]
  },
  {
   "cell_type": "code",
   "execution_count": 27,
   "id": "ab504265-a440-4a65-9e85-469ea7c383f0",
   "metadata": {},
   "outputs": [
    {
     "name": "stdout",
     "output_type": "stream",
     "text": [
      "lista mutável\n",
      "tupla imutável\n",
      "dicionário mapeável\n"
     ]
    }
   ],
   "source": [
    "for key, value in containers_em_Python.items():\n",
    "  print(key, value)"
   ]
  },
  {
   "cell_type": "code",
   "execution_count": null,
   "id": "96c5988b-1dff-4630-998c-dd97d1a944d5",
   "metadata": {},
   "outputs": [],
   "source": []
  }
 ],
 "metadata": {
  "kernelspec": {
   "display_name": "Python 3 (ipykernel)",
   "language": "python",
   "name": "python3"
  },
  "language_info": {
   "codemirror_mode": {
    "name": "ipython",
    "version": 3
   },
   "file_extension": ".py",
   "mimetype": "text/x-python",
   "name": "python",
   "nbconvert_exporter": "python",
   "pygments_lexer": "ipython3",
   "version": "3.11.5"
  }
 },
 "nbformat": 4,
 "nbformat_minor": 5
}
