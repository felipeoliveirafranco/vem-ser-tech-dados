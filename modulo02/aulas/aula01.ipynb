{
 "cells": [
  {
   "cell_type": "markdown",
   "id": "fdc06241-73e6-46e1-ab3c-6f237e46b779",
   "metadata": {},
   "source": [
    "# Tema do Grupo\n",
    "**GRUPO 1)**\n",
    "\n",
    "listas (criação, iteração, índices, inserção e remoção)\n",
    "Slicing de listas\n",
    "\n",
    "Tuplas (criação, iteração, índices, imutabilidade)"
   ]
  },
  {
   "cell_type": "markdown",
   "id": "1628402f-6118-47d9-a923-3fd0e2c1f2eb",
   "metadata": {},
   "source": [
    "# Listas"
   ]
  },
  {
   "cell_type": "markdown",
   "id": "eabe74f0-2b75-46ce-9c40-ecea02c3acef",
   "metadata": {},
   "source": [
    "## O que são Listas?\n",
    "Uma lista é uma coleção ordenada e mutável de elementos. Em Python, você pode criar uma lista usando colchetes ```[]``` e separar os elementos por vírgulas."
   ]
  },
  {
   "cell_type": "code",
   "execution_count": 1,
   "id": "625ce3fb-787a-40fa-98c6-a50c63629921",
   "metadata": {},
   "outputs": [],
   "source": [
    "lista_exemplo = [\"Banana\", \"Carro\", \"Python\"]"
   ]
  },
  {
   "cell_type": "markdown",
   "id": "5c6b0b0e-625f-4a92-8c81-e125acc638c4",
   "metadata": {},
   "source": [
    "### Principais características das listas:\r\n",
    "\r\n",
    "- As listas são mutáveis, o que significa que você pode adicionar, remover e modificar elementos.\r\n",
    "- Os elementos de uma lista são acessados por meio de índices, que começam em 0.\r\n",
    "- Você pode usar métodos como **`append()`**, **`remove()`**, **`pop()`**, e outros para manipular listas."
   ]
  },
  {
   "cell_type": "markdown",
   "id": "f6770b54-9769-4300-a0d3-b3cfd4fd77f5",
   "metadata": {},
   "source": [
    "### Criação"
   ]
  },
  {
   "cell_type": "code",
   "execution_count": 11,
   "id": "7bebc67b-e3c6-437d-b877-605907671f05",
   "metadata": {},
   "outputs": [],
   "source": [
    "# Criação  de listas vazias\n",
    "lista_1 = []\n",
    "lista_2 = list()\n",
    "\n",
    "# Criação de listas preenchidas\n",
    "lista_3 = [2, 3]\n",
    "\n",
    "# A lista pode criar objetos diferentes\n",
    "lista_4 = list([3,\"carro\", True]) \n",
    "\n",
    "#A lista pode conter outras listas\n",
    "lista_5 = [[10,2,3], [\"oi\", \"carro\",\"comida\"], [True, False]]"
   ]
  },
  {
   "cell_type": "markdown",
   "id": "48992275-a2aa-4eb2-979e-ebfd2a01ca12",
   "metadata": {},
   "source": [
    "### Manipulação de Listas"
   ]
  },
  {
   "cell_type": "markdown",
   "id": "212f260e-5808-41bb-a3d7-807781d07570",
   "metadata": {},
   "source": [
    "As listas possuem valores, tais valores estão representados por indices e esse indice começa em zero"
   ]
  },
  {
   "cell_type": "code",
   "execution_count": 9,
   "id": "53203a69-c463-4b68-93da-4c331d8cf7db",
   "metadata": {},
   "outputs": [
    {
     "data": {
      "text/plain": [
       "['Banana', 'Carro', 'Python']"
      ]
     },
     "execution_count": 9,
     "metadata": {},
     "output_type": "execute_result"
    }
   ],
   "source": [
    "lista_exemplo"
   ]
  },
  {
   "cell_type": "code",
   "execution_count": 12,
   "id": "c7ed1dc6-ca81-4ee7-88a9-cbd91972920e",
   "metadata": {},
   "outputs": [
    {
     "data": {
      "text/plain": [
       "'Banana'"
      ]
     },
     "execution_count": 12,
     "metadata": {},
     "output_type": "execute_result"
    }
   ],
   "source": [
    "lista_exemplo[0]"
   ]
  },
  {
   "cell_type": "markdown",
   "id": "55aba13a-f028-451c-a12e-3ae2d5d7f3a7",
   "metadata": {},
   "source": [
    "### Adicionar"
   ]
  },
  {
   "cell_type": "code",
   "execution_count": 14,
   "id": "da76ecf9-2e70-4e60-bffa-5a4c78aa6e00",
   "metadata": {},
   "outputs": [
    {
     "data": {
      "text/plain": [
       "['Banana', 'Carro', 'Python', 'Janeiro', 'Janeiro']"
      ]
     },
     "execution_count": 14,
     "metadata": {},
     "output_type": "execute_result"
    }
   ],
   "source": [
    "#O metodo append adiciona semrpre um elemento no final da lista\n",
    "lista_exemplo.append(\"Janeiro\")\n",
    "lista_exemplo"
   ]
  },
  {
   "cell_type": "code",
   "execution_count": 16,
   "id": "f286a929-750d-4e6b-97dd-a2b5bbe68b60",
   "metadata": {},
   "outputs": [
    {
     "data": {
      "text/plain": [
       "['Banana', 'Carro', False, True, 'Python', 'Janeiro', 'Janeiro']"
      ]
     },
     "execution_count": 16,
     "metadata": {},
     "output_type": "execute_result"
    }
   ],
   "source": [
    "#Com o metodo insert, é necessario colocar o indice(posição) seguido do elemento a ser inserido)\n",
    "lista_exemplo.insert(2, False)\n",
    "lista_exemplo"
   ]
  },
  {
   "cell_type": "markdown",
   "id": "1394ec23-16bc-4589-b287-9767a1ebd373",
   "metadata": {},
   "source": [
    "### Remover"
   ]
  },
  {
   "cell_type": "code",
   "execution_count": 17,
   "id": "58763c31-50da-4be6-a771-6e37b20b688f",
   "metadata": {},
   "outputs": [
    {
     "data": {
      "text/plain": [
       "['Banana', False, True, 'Python', 'Janeiro', 'Janeiro']"
      ]
     },
     "execution_count": 17,
     "metadata": {},
     "output_type": "execute_result"
    }
   ],
   "source": [
    "#O metodo remove retira o primeiro valor encontrado na lista\n",
    "lista_exemplo.remove('Carro')\n",
    "lista_exemplo"
   ]
  },
  {
   "cell_type": "code",
   "execution_count": 18,
   "id": "775c5008-68ad-45ae-ba44-c30670d8a1e6",
   "metadata": {},
   "outputs": [
    {
     "data": {
      "text/plain": [
       "['Banana', False, True, 'Python', 'Janeiro']"
      ]
     },
     "execution_count": 18,
     "metadata": {},
     "output_type": "execute_result"
    }
   ],
   "source": [
    "#O metodo pop retira o ultimo elemento da lista\n",
    "lista_exemplo.pop()\n",
    "lista_exemplo"
   ]
  },
  {
   "cell_type": "code",
   "execution_count": 19,
   "id": "d4171038-f003-4989-bb9f-ff67c072433a",
   "metadata": {},
   "outputs": [
    {
     "data": {
      "text/plain": [
       "['Banana', True, 'Python', 'Janeiro']"
      ]
     },
     "execution_count": 19,
     "metadata": {},
     "output_type": "execute_result"
    }
   ],
   "source": [
    "#O metodo pop também pode retirar um elemento por indice\n",
    "lista_exemplo.pop(1)\n",
    "lista_exemplo"
   ]
  },
  {
   "cell_type": "markdown",
   "id": "79cd6d44-c291-47b7-b5ae-56a58430d6c5",
   "metadata": {},
   "source": [
    "## Iteração de Lista\n",
    "Pode-se percorrer todos elementos de uma lista utilizando um for"
   ]
  },
  {
   "cell_type": "markdown",
   "id": "b63c7386-e19f-402d-bd78-e4e3fee040ec",
   "metadata": {},
   "source": [
    "### For"
   ]
  },
  {
   "cell_type": "code",
   "execution_count": 20,
   "id": "85310319-76d0-4260-b64a-7d8b44c3a8a0",
   "metadata": {},
   "outputs": [
    {
     "name": "stdout",
     "output_type": "stream",
     "text": [
      "Banana\n",
      "True\n",
      "Python\n",
      "Janeiro\n"
     ]
    }
   ],
   "source": [
    "for elemento in lista_exemplo:\n",
    "    print(elemento)"
   ]
  },
  {
   "cell_type": "code",
   "execution_count": 22,
   "id": "0ff6b346-ca46-46b9-b3b6-69a887cdfc28",
   "metadata": {},
   "outputs": [
    {
     "name": "stdout",
     "output_type": "stream",
     "text": [
      "0 Banana\n",
      "1 True\n",
      "2 Python\n",
      "3 Janeiro\n"
     ]
    }
   ],
   "source": [
    "for indice in range(len(lista_exemplo)):\n",
    "    print(indice, lista_exemplo[indice])"
   ]
  },
  {
   "cell_type": "markdown",
   "id": "af315126-2cba-4643-87fd-2daef44ea3aa",
   "metadata": {},
   "source": [
    "Também é possivel fazer interações de lista com **while**, mas não é o recomendado"
   ]
  },
  {
   "cell_type": "code",
   "execution_count": 25,
   "id": "42dc0146-698d-4939-9d4f-be34db02d331",
   "metadata": {},
   "outputs": [
    {
     "name": "stdout",
     "output_type": "stream",
     "text": [
      "Banana\n",
      "True\n",
      "Python\n",
      "Janeiro\n"
     ]
    }
   ],
   "source": [
    "i = 0\n",
    "while i < len(lista_exemplo):\n",
    "    print(lista_exemplo[i])\n",
    "    i+=1"
   ]
  },
  {
   "cell_type": "code",
   "execution_count": 39,
   "id": "c8a3492b-090d-4712-9069-72fad216cb14",
   "metadata": {},
   "outputs": [
    {
     "data": {
      "text/plain": [
       "'Janeiro'"
      ]
     },
     "execution_count": 39,
     "metadata": {},
     "output_type": "execute_result"
    }
   ],
   "source": [
    "# Utilizar o indice -1 faz com que acesse o ultimo elemento da lista\n",
    "lista_exemplo[-1]"
   ]
  },
  {
   "cell_type": "markdown",
   "id": "4a190eda-f9aa-48b5-89e3-e14884f3ecf9",
   "metadata": {},
   "source": [
    "### Slice"
   ]
  },
  {
   "cell_type": "code",
   "execution_count": 28,
   "id": "7ec28c5a-c7d0-43f2-8ea8-10f776ac01eb",
   "metadata": {},
   "outputs": [
    {
     "name": "stdout",
     "output_type": "stream",
     "text": [
      "[True, 'Python']\n"
     ]
    }
   ],
   "source": [
    "intervalo = slice(1, 3) # Cortar a lista a partir da posição 1 até a 3 (sem incluir a 3)\n",
    "print(lista_exemplo[intervalo])"
   ]
  },
  {
   "cell_type": "code",
   "execution_count": 44,
   "id": "f1f2a3b2-759b-4491-9c8c-11889410b7cd",
   "metadata": {},
   "outputs": [
    {
     "data": {
      "text/plain": [
       "['Python', 'Janeiro']"
      ]
     },
     "execution_count": 44,
     "metadata": {},
     "output_type": "execute_result"
    }
   ],
   "source": [
    "lista_exemplo[-2:len(lista_exemplo)+1]"
   ]
  },
  {
   "cell_type": "code",
   "execution_count": 49,
   "id": "2756e758-576a-4b44-9c30-fa67b6aa18c7",
   "metadata": {},
   "outputs": [
    {
     "data": {
      "text/plain": [
       "['Banana', 'Python']"
      ]
     },
     "execution_count": 49,
     "metadata": {},
     "output_type": "execute_result"
    }
   ],
   "source": [
    "lista_exemplo[::2]"
   ]
  },
  {
   "cell_type": "code",
   "execution_count": 50,
   "id": "f25d8611-a28c-4d7b-90d2-e326d03d4bb1",
   "metadata": {},
   "outputs": [
    {
     "data": {
      "text/plain": [
       "['Banana', 'oi', 'Python', 'Janeiro']"
      ]
     },
     "execution_count": 50,
     "metadata": {},
     "output_type": "execute_result"
    }
   ],
   "source": [
    "lista_exemplo_copia = lista_exemplo[::]\n",
    "lista_exemplo_copia"
   ]
  },
  {
   "cell_type": "markdown",
   "id": "d2f1d951-73e5-4cc5-bbd7-8c687c65e10d",
   "metadata": {},
   "source": [
    "# Tuplas"
   ]
  },
  {
   "cell_type": "markdown",
   "id": "8a270375-0273-4915-920a-14cbee085d89",
   "metadata": {},
   "source": [
    "### O que são Tuplas?\n",
    "Uma tupla é semelhante a uma lista, mas é imutável, ou seja, seus elementos não podem ser alterados após a criação. As tuplas são criadas usando parênteses ```()``` e também podem ser acessadas por meio de índices. Elas também podem ser concatenadas."
   ]
  },
  {
   "cell_type": "code",
   "execution_count": 2,
   "id": "a4ca0225-fac4-4fe9-ac11-58c518870b51",
   "metadata": {},
   "outputs": [],
   "source": [
    "tupla_exemplo = (\"Maça\", \"Moto\", \"Java\")"
   ]
  },
  {
   "cell_type": "markdown",
   "id": "29d61594-8091-4a23-a476-de3809d3c3c2",
   "metadata": {},
   "source": [
    "### Principais características das tuplas:\r\n",
    "\r\n",
    "- As tuplas são imutáveis, o que significa que seus elementos não podem ser modificados.\r\n",
    "- Elas são frequentemente usadas quando se deseja criar uma coleção de valores que não deve ser alterada, como coordenadas ou chaves em um dicionário."
   ]
  },
  {
   "cell_type": "markdown",
   "id": "27ebe81c-26b2-4094-a242-1014b14ddac5",
   "metadata": {},
   "source": [
    "### Criação"
   ]
  },
  {
   "cell_type": "code",
   "execution_count": 37,
   "id": "f0d209e4-4e06-4683-870f-167b4b050aae",
   "metadata": {},
   "outputs": [],
   "source": [
    "# Tupla com parateses\n",
    "tupla_1 = ()\n",
    "tupla_1_1 = (25,49)\n",
    "\n",
    "# Criação por virgulas\n",
    "tupla_2 = 1,3,\n",
    "\n",
    "# Utilizando o metodo tuple\n",
    "tupla_3 = tuple([5,6,6])\n",
    "tupla_4 = tuple(lista_exemplo)\n",
    "tupla_5 = tuple(\"string\")"
   ]
  },
  {
   "cell_type": "markdown",
   "id": "d54d5a6e-0014-48ed-b62e-c57a333fd065",
   "metadata": {},
   "source": [
    "### Iteração\n",
    "\n",
    "Pode-se percorrer todos elementos de uma tupla utilizando um for, igual acontece em lista"
   ]
  },
  {
   "cell_type": "markdown",
   "id": "38fecb34-5257-40ac-9606-036cc8b02966",
   "metadata": {},
   "source": [
    "### Indices\n",
    "Pode-se acesar os indices da tupla igual ocorre com a lista"
   ]
  },
  {
   "cell_type": "markdown",
   "id": "158a3e7a-2048-481f-8423-b8c59f49100e",
   "metadata": {},
   "source": [
    "### Exemplo Geral"
   ]
  },
  {
   "cell_type": "code",
   "execution_count": 42,
   "id": "86b81bf4-aa8a-4e3e-8b89-56f9f4eb2ffb",
   "metadata": {},
   "outputs": [
    {
     "data": {
      "text/plain": [
       "['Banana', 'oi', 'Python', 'Janeiro']"
      ]
     },
     "execution_count": 42,
     "metadata": {},
     "output_type": "execute_result"
    }
   ],
   "source": [
    "lista_exemplo[1] = \"oi\"\n",
    "lista_exemplo"
   ]
  },
  {
   "cell_type": "code",
   "execution_count": 43,
   "id": "7840ea47-7f57-4ef2-ac62-5c3d63aabb28",
   "metadata": {},
   "outputs": [
    {
     "ename": "TypeError",
     "evalue": "'tuple' object does not support item assignment",
     "output_type": "error",
     "traceback": [
      "\u001b[1;31m---------------------------------------------------------------------------\u001b[0m",
      "\u001b[1;31mTypeError\u001b[0m                                 Traceback (most recent call last)",
      "Cell \u001b[1;32mIn[43], line 1\u001b[0m\n\u001b[1;32m----> 1\u001b[0m \u001b[43mtupla_exemplo\u001b[49m\u001b[43m[\u001b[49m\u001b[38;5;241;43m1\u001b[39;49m\u001b[43m]\u001b[49m \u001b[38;5;241m=\u001b[39m \u001b[38;5;124m\"\u001b[39m\u001b[38;5;124moi\u001b[39m\u001b[38;5;124m\"\u001b[39m\n",
      "\u001b[1;31mTypeError\u001b[0m: 'tuple' object does not support item assignment"
     ]
    }
   ],
   "source": [
    "tupla_exemplo[1] = \"oi\""
   ]
  }
 ],
 "metadata": {
  "kernelspec": {
   "display_name": "Python 3 (ipykernel)",
   "language": "python",
   "name": "python3"
  },
  "language_info": {
   "codemirror_mode": {
    "name": "ipython",
    "version": 3
   },
   "file_extension": ".py",
   "mimetype": "text/x-python",
   "name": "python",
   "nbconvert_exporter": "python",
   "pygments_lexer": "ipython3",
   "version": "3.11.5"
  }
 },
 "nbformat": 4,
 "nbformat_minor": 5
}
