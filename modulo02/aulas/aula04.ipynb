{
 "cells": [
  {
   "cell_type": "markdown",
   "metadata": {},
   "source": [
    "Para que a entrega de alimentos seja feita com qualidade por um serviço de delivery, é muito importante que as caixas de transporte utilizadas por entregadores tenham um revestimento térmico interno, para manter a temperatura dos alimentos. Muitos destes revestimentos são importados de países que utilizam diferentes escalas de temperatura, de modo que as especificações quanto às temperaturas de operação podem gerar confusão.\n",
    "\n",
    "Pensando nisso, escreva um código em Python que recebe um número (que possa ter casas decimais) e a escala de temperatura em que este valor se encontra e para qual ele deseja converter (Celsius, Kelvin ou Fahrenheit). Tanto na escala em que se encontra quanto para a que deseja converter, utilize as letras iniciais como entrada: Celsius - 'C', Kelvin - 'K' ou Fahrenheit - 'F'.\n",
    "\n",
    "Importante: o programa deve trabalhar apenas com as 3 escalas supracitadas! Então, não deixe de fazer as validações necessárias. Além disso, por definição, não existem temperaturas em Kelvin abaixo de zero (o valor zero pode existir), portanto verifique também esta condição para que sejam feitas conversões válidas!"
   ]
  },
  {
   "cell_type": "markdown",
   "metadata": {},
   "source": [
    "+ Menu de Opções (x)\n",
    "+ Validar Entrada (x)\n",
    "+ Converter Valores de Entrada (x)\n",
    "+ Funções de Conversão (x)\n",
    "+ Verificar kelvin "
   ]
  },
  {
   "cell_type": "code",
   "execution_count": 46,
   "metadata": {},
   "outputs": [],
   "source": [
    "def valida_opcoes(valor: str, opcoes: list) -> bool:\n",
    "    return valor in opcoes\n",
    "\n",
    "def verifica_zero_absoluto(valor: float, escala:str, operacoes:dict) -> bool:\n",
    "    \n",
    "    if escala != 'K':\n",
    "        valor, = tuple(map(operacoes[escala]['K'], (valor,)))\n",
    "    \n",
    "    return valor >= 0"
   ]
  },
  {
   "cell_type": "code",
   "execution_count": 19,
   "metadata": {},
   "outputs": [],
   "source": [
    "def obter_opcoes(opcoes, msg='Opções'):\n",
    "    msg = f\"{msg} ({' | '.join([f'{key} - {values}' for key, values in opcoes.items()])}):\" \n",
    "    \n",
    "    while True:\n",
    "        valor = input(msg).upper()\n",
    "    \n",
    "        if valida_opcoes(valor, opcoes.keys()):\n",
    "            break\n",
    "        \n",
    "        msg = f'Entrada Inválida! As opções validas são {\", \".join(opcoes.keys())} \\n' + msg\n",
    "        \n",
    "    return valor"
   ]
  },
  {
   "cell_type": "code",
   "execution_count": 20,
   "metadata": {},
   "outputs": [],
   "source": [
    "def obter_valor(msg='', func=float):\n",
    "    \n",
    "    while True:\n",
    "        valor = input(msg)\n",
    "        try:\n",
    "            return list(map(func, [valor]))[0]\n",
    "        except ValueError:\n",
    "            msg = f'Entrada Inválida! {msg}'"
   ]
  },
  {
   "cell_type": "code",
   "execution_count": 25,
   "metadata": {},
   "outputs": [],
   "source": [
    "def menu():\n",
    "    \n",
    "    opcoes = {'C': 'Celsius', \n",
    "              'F': 'Fahrenheit',\n",
    "              'K': 'Kelvin'}\n",
    "    \n",
    "    escala_entrada = obter_opcoes(opcoes, 'Escolha a escala de entrada')            \n",
    "    escala_saida = obter_opcoes(opcoes, 'Escolha a escala de saída')\n",
    "    temperatura = obter_valor('Entre com a temperatura: ')\n",
    "    \n",
    "    return escala_entrada, escala_saida, temperatura\n",
    "\n"
   ]
  },
  {
   "cell_type": "code",
   "execution_count": 52,
   "metadata": {},
   "outputs": [],
   "source": [
    "#https://www.infoescola.com/fisica/conversao-de-escalas-termometricas/\n",
    "\n",
    "#sala1\n",
    "def kelvin_to_celsius(valor: float) -> float: \n",
    "\treturn valor - 273\n",
    "\n",
    "#sala2\n",
    "def kelvin_to_fahrenheit(valor: float) -> float:\n",
    "    return (valor - 273) * 1.8 + 32\n",
    "\n",
    "def celsius_to_kelvin(valor: float) -> float:\n",
    "    return valor + 273\n",
    "\n",
    "def celsius_to_fahrenheit(valor: float) -> float:\n",
    "    return 1.8 * valor + 32\n",
    "\n",
    "def fahrenheit_to_celsius(valor: float) -> float:\n",
    "    return (valor - 32) / 1.8\n",
    "\n",
    "def fahrenheit_to_kelvin(valor: float) -> float:\n",
    "    return (valor - 32) * 5/9 + 273\n",
    "\n",
    "def mesma_op(valor: float) -> float:\n",
    "    return valor"
   ]
  },
  {
   "cell_type": "code",
   "execution_count": 53,
   "metadata": {},
   "outputs": [],
   "source": [
    "OPERACOES = {'K': {\n",
    "                    'C': kelvin_to_celsius,\n",
    "                    'F': kelvin_to_fahrenheit,\n",
    "                    'K': mesma_op\n",
    "                },\n",
    "                'C': {\n",
    "                    'K': celsius_to_kelvin,\n",
    "                    'F': celsius_to_fahrenheit,\n",
    "                    'C': mesma_op\n",
    "                },\n",
    "                'F': {\n",
    "                    'C': fahrenheit_to_celsius,\n",
    "                    'K': fahrenheit_to_kelvin,\n",
    "                    'F': mesma_op\n",
    "                }        \n",
    "            }"
   ]
  },
  {
   "cell_type": "code",
   "execution_count": 54,
   "metadata": {},
   "outputs": [
    {
     "name": "stdout",
     "output_type": "stream",
     "text": [
      "Conversão C -> C: 174.0\n"
     ]
    }
   ],
   "source": [
    "escala_entrada, escala_saida, temperatura =  menu()\n",
    "\n",
    "temperatura_saida, = tuple(map(OPERACOES[escala_entrada][escala_saida], (temperatura,)))\n",
    "\n",
    "if verifica_zero_absoluto(temperatura_saida, escala_saida, OPERACOES):\n",
    "    print(f'Conversão {escala_entrada} -> {escala_saida}: {temperatura_saida}')\n",
    "else:\n",
    "    print('A temperatura informada está abaixo do zero absoluto!')"
   ]
  },
  {
   "cell_type": "code",
   "execution_count": 55,
   "metadata": {},
   "outputs": [
    {
     "name": "stdout",
     "output_type": "stream",
     "text": [
      "A temperatura informada está abaixo do zero absoluto!\n",
      "Conversão C -> F: -328.0\n"
     ]
    }
   ],
   "source": [
    "while True:\n",
    "    escala_entrada, escala_saida, temperatura =  menu()\n",
    "\n",
    "    temperatura_saida, = tuple(map(OPERACOES[escala_entrada][escala_saida], (temperatura,)))\n",
    "\n",
    "    if verifica_zero_absoluto(temperatura_saida, escala_saida, OPERACOES):\n",
    "        print(f'Conversão {escala_entrada} -> {escala_saida}: {temperatura_saida}')\n",
    "    else:\n",
    "        print('A temperatura informada está abaixo do zero absoluto!')\n",
    "        \n",
    "    if obter_opcoes({'S': 'Sim', 'N': 'Não'}, 'Deseja Sair') == 'S':\n",
    "        break\n",
    "    "
   ]
  }
 ],
 "metadata": {
  "kernelspec": {
   "display_name": "Python 3",
   "language": "python",
   "name": "python3"
  },
  "language_info": {
   "codemirror_mode": {
    "name": "ipython",
    "version": 3
   },
   "file_extension": ".py",
   "mimetype": "text/x-python",
   "name": "python",
   "nbconvert_exporter": "python",
   "pygments_lexer": "ipython3",
   "version": "3.11.4"
  }
 },
 "nbformat": 4,
 "nbformat_minor": 2
}
