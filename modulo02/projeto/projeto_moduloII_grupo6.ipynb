{
  "nbformat": 4,
  "nbformat_minor": 0,
  "metadata": {
    "colab": {
      "provenance": []
    },
    "kernelspec": {
      "name": "python3",
      "display_name": "Python 3"
    },
    "language_info": {
      "name": "python"
    }
  },
  "cells": [
    {
      "cell_type": "markdown",
      "source": [
        "# Projeto Final de Lógica de Programação com Python II\n",
        "\n"
      ],
      "metadata": {
        "id": "0L8v5-qHJxuN"
      }
    },
    {
      "cell_type": "markdown",
      "source": [
        "Professor Roberto Pontes\n",
        "\n",
        "**Integrantes do Grupo 06**:\n",
        "\n",
        "* Felipe Franco\n",
        "* Anna Schuenck\n",
        "* Maria Vitória\n",
        "* Matheus Muniz"
      ],
      "metadata": {
        "id": "1-hy9HcaPkre"
      }
    },
    {
      "cell_type": "markdown",
      "source": [
        "## Descrição\n",
        "\n",
        "O projeto consiste em realizar os seguintes passos:\n",
        "\n",
        "* Ler uma lista de objetos de um JSON;\n",
        "\n",
        "* Realizar um mapeamento, um filtro e uma redução;\n",
        "\n",
        "* Permitir que os dados possam ser lidos individualmente, atualizados e deletados (manter JSON atualizado);\n",
        "\n",
        "* Garantir que todas as operações tenham validações (try-except, raise);\n",
        "\n",
        "* Obter algum dado estatístico simples, como média de um grupo (exemplo, a média de idade dos professores que dão aula de exatas, caso o conjunto de dados seja do tema professores);\n",
        "\n",
        "* Criar uma função para obter uma lista de tuplas, com o máximo (ou o mínimo) valor de algum atributo numérico, com o primeira posição contendo o nome do elemento e a segunda o valor máximo (o motivo de ser lista é porque pode ter mais de um elemento com valor máximo);\n",
        "\n",
        "* Esta função deve ter um parâmetro opcional, que diz qual das estatísticas você deseja obter (mínimo ou máximo);\n",
        "\n",
        "* Obter algum dado estatístico simples, como média, máximo e mínimo (exemplo, a média de idade dos professores que dão aula de exatas, caso o conjunto de dados seja do tema professores);\n",
        "\n",
        "* Salvar dados estatísticos em um CSV."
      ],
      "metadata": {
        "id": "aZanzGwM2ZVi"
      }
    },
    {
      "cell_type": "markdown",
      "source": [
        "### Apresentação\n",
        "\n",
        "A apresentação foi realizada no formato de pitch.\n",
        "Você pode visualizar a apresentação [aqui](https://github.com/felipeoliveirafranco/vem-ser-tech-dados/blob/main/modulo02/projeto/Apresenta%C3%A7%C3%A3o%20do%20Projeto.pdf)."
      ],
      "metadata": {
        "id": "MaJBNKf4K9Zz"
      }
    },
    {
      "cell_type": "markdown",
      "source": [
        "### Entregas\n",
        "\n",
        "As entregas foram entregues na sprint, com a seguinte divisão:\n",
        "\n",
        "- Carregamento dos dados;\n",
        "- Exibição dos dados;\n",
        "- Inclusão de novo registro;\n",
        "- Remoção de registro;\n",
        "- Calculo de área da bbox;\n",
        "- Soma da bbox;\n",
        "- Filtro dos frames sem detecção;\n",
        "- Calculo da área média, mínima e máxima;\n",
        "- Exibição do menu com operações;\n",
        "- Recebeminto do input de operação;\n",
        "- Funçaõ para salvar CSV com as métricas extraídas;\n",
        "- Elaboração da apresentação;\n",
        "- Apresentação.\n"
      ],
      "metadata": {
        "id": "9BRc4GqVM0dz"
      }
    },
    {
      "cell_type": "code",
      "execution_count": null,
      "metadata": {
        "id": "MCttR8VVadH0"
      },
      "outputs": [],
      "source": [
        "# importações\n",
        "import json\n",
        "import timeit\n",
        "from functools import reduce\n",
        "import csv"
      ]
    },
    {
      "cell_type": "markdown",
      "source": [
        "O arquivo JSON que deve ser carregado está disponível [aqui](https://github.com/felipeoliveirafranco/vem-ser-tech-dados/blob/main/modulo02/projeto/gestures.json)."
      ],
      "metadata": {
        "id": "Qb2gjrT3RTBU"
      }
    },
    {
      "cell_type": "code",
      "source": [
        "def carrega_dados(path:str = 'gestures.json') -> list[dict]:\n",
        "    try:\n",
        "        with open(path, 'r') as arquivo:\n",
        "            dados = arquivo.read()\n",
        "            return json.loads(dados)\n",
        "    except FileNotFoundError:\n",
        "        return []"
      ],
      "metadata": {
        "id": "8kfPp_nbABwX"
      },
      "execution_count": null,
      "outputs": []
    },
    {
      "cell_type": "code",
      "source": [
        "gestures = carrega_dados()"
      ],
      "metadata": {
        "id": "7XWd6laBBlY5"
      },
      "execution_count": null,
      "outputs": []
    },
    {
      "cell_type": "code",
      "source": [
        "# formata cada item\n",
        "def formata_dados(frame: dict) -> str:\n",
        "    return '\\n'.join([f'{key.title()}: {value}' for key, value in frame.items()])"
      ],
      "metadata": {
        "id": "oPhie5bPWRqQ"
      },
      "execution_count": null,
      "outputs": []
    },
    {
      "cell_type": "code",
      "source": [
        "# formata todos os items da lista\n",
        "def formata_dados_todos(frames: list[dict]) -> str:\n",
        "    return '\\n\\n'.join(list(map(formata_dados, frames)))"
      ],
      "metadata": {
        "id": "joUVNDLJWTWH"
      },
      "execution_count": null,
      "outputs": []
    },
    {
      "cell_type": "code",
      "source": [
        "# visualizar dados\n",
        "print(formata_dados_todos(gestures))"
      ],
      "metadata": {
        "colab": {
          "base_uri": "https://localhost:8080/"
        },
        "id": "Hb-N4TwHWzkO",
        "outputId": "bca416b3-f52d-471e-c2ee-8de662ab6de4"
      },
      "execution_count": null,
      "outputs": [
        {
          "output_type": "stream",
          "name": "stdout",
          "text": [
            "Frame: 1\n",
            "Bbox1: [167, 423, 53, 52]\n",
            "Bbox2: [105, 429, 36, 48]\n",
            "Gesture: Thumb_Up\n",
            "\n",
            "Frame: 2\n",
            "Bbox1: [137, 355, 48, 56]\n",
            "Bbox2: [72, 347, 40, 62]\n",
            "Gesture: Thumb_Up\n",
            "\n",
            "Frame: 3\n",
            "Bbox1: [0, 0, 0, 0]\n",
            "Bbox2: [0, 0, 0, 0]\n",
            "Gesture: None\n",
            "\n",
            "Frame: 4\n",
            "Bbox1: [411, 280, 72, 95]\n",
            "Bbox2: [539, 275, 62, 86]\n",
            "Gesture: Thumb_Down\n",
            "\n",
            "Frame: 5\n",
            "Bbox1: [516, 271, 74, 56]\n",
            "Bbox2: [410, 280, 64, 85]\n",
            "Gesture: None\n",
            "\n",
            "Frame: 6\n",
            "Bbox1: [65, 213, 75, 65]\n",
            "Bbox2: [160, 250, 66, 49]\n",
            "Gesture: Pointing_Up\n",
            "\n",
            "Frame: 7\n",
            "Bbox1: [0, 0, 0, 0]\n",
            "Bbox2: [0, 0, 0, 0]\n",
            "Gesture: None\n",
            "\n",
            "Frame: 8\n",
            "Bbox1: [0, 0, 0, 0]\n",
            "Bbox2: [0, 0, 0, 0]\n",
            "Gesture: None\n",
            "\n",
            "Frame: 9\n",
            "Bbox1: [0, 0, 0, 0]\n",
            "Bbox2: [0, 0, 0, 0]\n",
            "Gesture: None\n",
            "\n",
            "Frame: 10\n",
            "Bbox1: [380, 283, 53, 102]\n",
            "Bbox2: [0, 0, 0, 0]\n",
            "Gesture: Pointing_Up\n",
            "\n",
            "Frame: 11\n",
            "Bbox1: [0, 0, 0, 0]\n",
            "Bbox2: [0, 0, 0, 0]\n",
            "Gesture: None\n",
            "\n",
            "Frame: 12\n",
            "Bbox1: [153, 263, 42, 58]\n",
            "Bbox2: [0, 0, 0, 0]\n",
            "Gesture: None\n"
          ]
        }
      ]
    },
    {
      "cell_type": "code",
      "source": [
        "novo_dado = {\n",
        "    \"frame\": 13,\n",
        "    \"bbox1\": [\n",
        "      0,\n",
        "      0,\n",
        "      0,\n",
        "      0\n",
        "    ],\n",
        "    \"bbox2\": [\n",
        "      0,\n",
        "      0,\n",
        "      0,\n",
        "      0\n",
        "    ],\n",
        "    \"gesture\": \"None\"\n",
        "  }\n",
        "\n",
        "def inserir_dado(novo_dado: dict, path:str = 'gestures.json'):\n",
        "    try:\n",
        "# Carrega os dados existentes do arquivo\n",
        "        with open(path, 'r') as arquivo:\n",
        "            dados = json.load(arquivo)\n",
        "    except FileNotFoundError:\n",
        "# Se o arquivo não existe, comece com uma lista vazia\n",
        "        dados = []\n",
        "\n",
        "# Adiciona o novo dado à lista\n",
        "    dados.append(novo_dado)\n",
        "\n",
        "# Escreve os dados atualizados de volta no arquivo JSON\n",
        "    with open(path, 'w') as arquivo:\n",
        "        json.dump(dados, arquivo, indent=2)\n",
        "\n",
        "# Exemplo:\n",
        "inserir_dado(novo_dado, 'gestures.json')\n",
        "print (gestures)"
      ],
      "metadata": {
        "colab": {
          "base_uri": "https://localhost:8080/"
        },
        "id": "6ywkwvDjpjLy",
        "outputId": "7ff39230-d287-4f8e-aab8-b875a4983ec3"
      },
      "execution_count": null,
      "outputs": [
        {
          "output_type": "stream",
          "name": "stdout",
          "text": [
            "[{'frame': 1, 'bbox1': [167, 423, 53, 52], 'bbox2': [105, 429, 36, 48], 'gesture': 'Thumb_Up'}, {'frame': 2, 'bbox1': [137, 355, 48, 56], 'bbox2': [72, 347, 40, 62], 'gesture': 'Thumb_Up'}, {'frame': 3, 'bbox1': [0, 0, 0, 0], 'bbox2': [0, 0, 0, 0], 'gesture': 'None'}, {'frame': 4, 'bbox1': [411, 280, 72, 95], 'bbox2': [539, 275, 62, 86], 'gesture': 'Thumb_Down'}, {'frame': 5, 'bbox1': [516, 271, 74, 56], 'bbox2': [410, 280, 64, 85], 'gesture': 'None'}, {'frame': 6, 'bbox1': [65, 213, 75, 65], 'bbox2': [160, 250, 66, 49], 'gesture': 'Pointing_Up'}, {'frame': 7, 'bbox1': [0, 0, 0, 0], 'bbox2': [0, 0, 0, 0], 'gesture': 'None'}, {'frame': 8, 'bbox1': [0, 0, 0, 0], 'bbox2': [0, 0, 0, 0], 'gesture': 'None'}, {'frame': 9, 'bbox1': [0, 0, 0, 0], 'bbox2': [0, 0, 0, 0], 'gesture': 'None'}, {'frame': 10, 'bbox1': [380, 283, 53, 102], 'bbox2': [0, 0, 0, 0], 'gesture': 'Pointing_Up'}, {'frame': 11, 'bbox1': [0, 0, 0, 0], 'bbox2': [0, 0, 0, 0], 'gesture': 'None'}, {'frame': 12, 'bbox1': [153, 263, 42, 58], 'bbox2': [0, 0, 0, 0], 'gesture': 'None'}]\n"
          ]
        }
      ]
    },
    {
      "cell_type": "code",
      "source": [
        "def deletar_dado(objeto: str, path: str = 'gestures.json'):\n",
        "    dados = carrega_dados(path)\n",
        "\n",
        "    # Filtra os dados para manter apenas aqueles com \"objeto\" diferente do especificado\n",
        "    dados_filtrados = [dado for dado in dados if dado[\"frame\"] != objeto]\n",
        "\n",
        "    # Escreve os dados filtrados de volta no arquivo JSON\n",
        "    with open(path, 'w') as arquivo:\n",
        "        json.dump(dados_filtrados, arquivo, indent=2)\n",
        "\n",
        "# Exemplo:\n",
        "objeto_a_deletar = 13\n",
        "deletar_dado(objeto_a_deletar, 'gestures.json')\n",
        "print (gestures)"
      ],
      "metadata": {
        "colab": {
          "base_uri": "https://localhost:8080/"
        },
        "id": "4mPvdOXbqNPB",
        "outputId": "15eb0f1c-57e7-400d-a1e8-b4b0ca238830"
      },
      "execution_count": null,
      "outputs": [
        {
          "output_type": "stream",
          "name": "stdout",
          "text": [
            "[{'frame': 1, 'bbox1': [167, 423, 53, 52], 'bbox2': [105, 429, 36, 48], 'gesture': 'Thumb_Up'}, {'frame': 2, 'bbox1': [137, 355, 48, 56], 'bbox2': [72, 347, 40, 62], 'gesture': 'Thumb_Up'}, {'frame': 3, 'bbox1': [0, 0, 0, 0], 'bbox2': [0, 0, 0, 0], 'gesture': 'None'}, {'frame': 4, 'bbox1': [411, 280, 72, 95], 'bbox2': [539, 275, 62, 86], 'gesture': 'Thumb_Down'}, {'frame': 5, 'bbox1': [516, 271, 74, 56], 'bbox2': [410, 280, 64, 85], 'gesture': 'None'}, {'frame': 6, 'bbox1': [65, 213, 75, 65], 'bbox2': [160, 250, 66, 49], 'gesture': 'Pointing_Up'}, {'frame': 7, 'bbox1': [0, 0, 0, 0], 'bbox2': [0, 0, 0, 0], 'gesture': 'None'}, {'frame': 8, 'bbox1': [0, 0, 0, 0], 'bbox2': [0, 0, 0, 0], 'gesture': 'None'}, {'frame': 9, 'bbox1': [0, 0, 0, 0], 'bbox2': [0, 0, 0, 0], 'gesture': 'None'}, {'frame': 10, 'bbox1': [380, 283, 53, 102], 'bbox2': [0, 0, 0, 0], 'gesture': 'Pointing_Up'}, {'frame': 11, 'bbox1': [0, 0, 0, 0], 'bbox2': [0, 0, 0, 0], 'gesture': 'None'}, {'frame': 12, 'bbox1': [153, 263, 42, 58], 'bbox2': [0, 0, 0, 0], 'gesture': 'None'}]\n"
          ]
        }
      ]
    },
    {
      "cell_type": "code",
      "source": [
        "# replica os itens e ajusta o frame\n",
        "def replica_itens(entrada, numero_de_replicas=100) -> list:\n",
        "    replicado = []\n",
        "\n",
        "    for i in range(numero_de_replicas):\n",
        "        for j in range(len(entrada)):\n",
        "            item_replicado = entrada[j].copy()\n",
        "            item_replicado['frame'] = len(replicado) + 1\n",
        "            replicado.append(item_replicado)\n",
        "\n",
        "    return replicado"
      ],
      "metadata": {
        "id": "eih3zyvBNiNu"
      },
      "execution_count": null,
      "outputs": []
    },
    {
      "cell_type": "code",
      "source": [
        "# cria variavel com 100 replicas\n",
        "gestures_cem = replica_itens(gestures)\n",
        "\n",
        "# cria variavel com 10 000 replicas\n",
        "gestures_dez_mil = replica_itens(gestures)"
      ],
      "metadata": {
        "id": "zrzVw7_fN2lW"
      },
      "execution_count": null,
      "outputs": []
    },
    {
      "cell_type": "code",
      "source": [
        "# total de pixels da imagem\n",
        "total_de_pixels = 640*480"
      ],
      "metadata": {
        "id": "Mc1tGlzXqDUJ"
      },
      "execution_count": null,
      "outputs": []
    },
    {
      "cell_type": "code",
      "source": [
        "# funcao para calcular a area de uma bbox - porcentagem da area total da imagem\n",
        "def bbox_area(bbox) -> list:\n",
        "  # bbox [xmin, ymin, width, height]\n",
        "  _, _, width, height = bbox\n",
        "  return ((width * height)/total_de_pixels)*100"
      ],
      "metadata": {
        "id": "SGehBdV2wjYz"
      },
      "execution_count": null,
      "outputs": []
    },
    {
      "cell_type": "code",
      "source": [
        "# apenas um teste para vizualizar o resultado do calculo de area\n",
        "bbox_area(gestures[5][\"bbox1\"])"
      ],
      "metadata": {
        "id": "LGxKpn3a2tIp",
        "colab": {
          "base_uri": "https://localhost:8080/"
        },
        "outputId": "08150957-be7e-4094-b691-e5c19318ebe0"
      },
      "execution_count": null,
      "outputs": [
        {
          "output_type": "execute_result",
          "data": {
            "text/plain": [
              "1.5869140625"
            ]
          },
          "metadata": {},
          "execution_count": 13
        }
      ]
    },
    {
      "cell_type": "code",
      "source": [
        "# funcao para somar as areas por frame\n",
        "def soma_area(frame) -> list:\n",
        "  return bbox_area(frame[\"bbox1\"]) + bbox_area(frame[\"bbox2\"])"
      ],
      "metadata": {
        "id": "HyE_6KPpJ-S5"
      },
      "execution_count": null,
      "outputs": []
    },
    {
      "cell_type": "code",
      "source": [
        "# funcao para calcular area por frame\n",
        "def area_por_frame(gestures) -> list:\n",
        "  return list(map(soma_area, gestures))"
      ],
      "metadata": {
        "id": "M1NcXto41m8p"
      },
      "execution_count": null,
      "outputs": []
    },
    {
      "cell_type": "code",
      "source": [
        "### testando até aqui\n",
        "area_por_frame(gestures)"
      ],
      "metadata": {
        "id": "1AY9euKG7yuq",
        "colab": {
          "base_uri": "https://localhost:8080/"
        },
        "outputId": "b15f4a67-9edc-4918-bc12-bdf9100ba487"
      },
      "execution_count": null,
      "outputs": [
        {
          "output_type": "execute_result",
          "data": {
            "text/plain": [
              "[1.4596354166666667,\n",
              " 1.682291666666667,\n",
              " 0.0,\n",
              " 3.962239583333333,\n",
              " 3.1197916666666665,\n",
              " 2.6396484375,\n",
              " 0.0,\n",
              " 0.0,\n",
              " 0.0,\n",
              " 1.759765625,\n",
              " 0.0,\n",
              " 0.7929687499999999]"
            ]
          },
          "metadata": {},
          "execution_count": 16
        }
      ]
    },
    {
      "cell_type": "code",
      "source": [
        "# segundo a regra de negocio, frames sem deteccao de mao devem ser desconsiderados\n",
        "# funcao para filtrar os frames que nao tiveram deteccao de nenhuma mao, ou seja, valor = 0.\n",
        "def remover_area_zero(gestures) -> tuple:\n",
        "  return tuple(filter(lambda x: x > 0, area_por_frame(gestures)))"
      ],
      "metadata": {
        "id": "JLcUAmJZ7aHz"
      },
      "execution_count": null,
      "outputs": []
    },
    {
      "cell_type": "code",
      "source": [
        "# armazena lista de áreas - lembrando que frames sem deteccao foram eliminados\n",
        "remover_area_zero(gestures)"
      ],
      "metadata": {
        "id": "w9P6ecgo7coZ",
        "colab": {
          "base_uri": "https://localhost:8080/"
        },
        "outputId": "2962c0eb-947f-4be9-a622-31dacfae6752"
      },
      "execution_count": null,
      "outputs": [
        {
          "output_type": "execute_result",
          "data": {
            "text/plain": [
              "(1.4596354166666667,\n",
              " 1.682291666666667,\n",
              " 3.962239583333333,\n",
              " 3.1197916666666665,\n",
              " 2.6396484375,\n",
              " 1.759765625,\n",
              " 0.7929687499999999)"
            ]
          },
          "metadata": {},
          "execution_count": 18
        }
      ]
    },
    {
      "cell_type": "code",
      "source": [
        "# funcao para calcular a media das areas\n",
        "def media_area(lista_areas):\n",
        "    soma = reduce(lambda x, y : x + y, lista_areas)\n",
        "    return round(soma/len(lista_areas), 2)\n",
        "\n",
        "# funcao para calcular a area maxima ou minima\n",
        "def extremos_area(lista_areas, estatistica = 'min'):\n",
        "\n",
        "    valor_extremo = max(lista_areas) if estatistica == 'max' else min(lista_areas)\n",
        "    indice = [i for i, valor in enumerate(lista_areas) if valor == valor_extremo]\n",
        "\n",
        "    return valor_extremo, indice[0]\n",
        "\n",
        "# solicita a operacao desejada ao usuario\n",
        "estatistica = input(\"Qual operação que deseja realizar? Digite 'min' para calcular a menor área, e 'max' para calcular a maior área: \")\n",
        "\n",
        "# chama a funcao extremos_area com a estatistica escolhida pelo usuario\n",
        "resultados = extremos_area(remover_area_zero(gestures), estatistica)\n",
        "\n",
        "# imprimir os resultados\n",
        "print(f'A média das áreas é de {media_area(remover_area_zero(gestures))}')\n",
        "print(f'O valor extremo é {round(resultados[0],2)}% da área da imagem e o índice é {resultados[1]}.')"
      ],
      "metadata": {
        "id": "cemGiLxXjyoZ",
        "outputId": "e56bb9ec-5a6e-4dad-d0f3-09812e1b2346",
        "colab": {
          "base_uri": "https://localhost:8080/"
        }
      },
      "execution_count": null,
      "outputs": [
        {
          "output_type": "stream",
          "name": "stdout",
          "text": [
            "Qual operação que deseja realizar? Digite 'min' para calcular a menor área, e 'max' para calcular a maior área: max\n",
            "A média das áreas é de 2.2\n",
            "O valor extremo é 3.96% da área da imagem e o índice é 2.\n"
          ]
        }
      ]
    },
    {
      "cell_type": "code",
      "source": [
        "def salvar_dados_json(dados:list[dict], path:str = 'gestures.json') -> bool:\n",
        "    try:\n",
        "        with open(path, 'w') as arquivo:\n",
        "            arquivo.write(json.dumps(dados))\n",
        "            return True\n",
        "    except Exception:\n",
        "        return False"
      ],
      "metadata": {
        "id": "xXGQ25RDWPT_"
      },
      "execution_count": null,
      "outputs": []
    },
    {
      "cell_type": "code",
      "source": [
        "dados_para_csv = [['Mean', 'Min','Max'],\n",
        "                 [media_area(remover_area_zero(gestures)),\n",
        "                 extremos_area(remover_area_zero(gestures))[0],\n",
        "                 extremos_area(remover_area_zero(gestures), \"max\")[0]]]"
      ],
      "metadata": {
        "id": "L2TZgQlgFIW1"
      },
      "execution_count": null,
      "outputs": []
    },
    {
      "cell_type": "code",
      "source": [
        "# funcao para salvar as metricas extraidas em um arquivo csv\n",
        "def salvar_csv(dados_para_csv, path='metricas.csv'):\n",
        "    # abrir o arquivo CSV com o encoding UTF-8\n",
        "    with open(path, 'w', encoding='utf-8') as arquivo:\n",
        "        # especificar regras\n",
        "        escritor = csv.writer(arquivo, delimiter=';', lineterminator='\\n')\n",
        "\n",
        "        # escrever uma lista de listas em formato CSV:\n",
        "        escritor.writerows(dados_para_csv)"
      ],
      "metadata": {
        "id": "is9PKogqbF0m"
      },
      "execution_count": null,
      "outputs": []
    },
    {
      "cell_type": "code",
      "source": [
        "# salvar arquivo\n",
        "salvar_csv(dados_para_csv)"
      ],
      "metadata": {
        "id": "wW8Q_L2KbQh3"
      },
      "execution_count": null,
      "outputs": []
    },
    {
      "cell_type": "code",
      "source": [
        "# comparativo de tempo de processamento\n",
        "# 12 itens\n",
        "%timeit -n 1000 -r 100 %timeit\n",
        "media_um = media_area(remover_area_zero(gestures))"
      ],
      "metadata": {
        "id": "sFDpgkMqxDuJ",
        "colab": {
          "base_uri": "https://localhost:8080/"
        },
        "outputId": "564283a4-1ba1-4dd0-ce0a-9818dcaf57bb"
      },
      "execution_count": null,
      "outputs": [
        {
          "output_type": "stream",
          "name": "stdout",
          "text": [
            "4.58 µs ± 748 ns per loop (mean ± std. dev. of 100 runs, 1000 loops each)\n"
          ]
        }
      ]
    },
    {
      "cell_type": "code",
      "source": [
        "# comparativo de tempo de processamento\n",
        "# 1200 itens\n",
        "%timeit -n 1000 -r 100 %timeit\n",
        "media_cem = media_area(remover_area_zero(gestures_cem))"
      ],
      "metadata": {
        "colab": {
          "base_uri": "https://localhost:8080/"
        },
        "id": "nwIsIbnE_p72",
        "outputId": "d95f30a1-c561-4d10-b783-a7da89821b37"
      },
      "execution_count": null,
      "outputs": [
        {
          "output_type": "stream",
          "name": "stdout",
          "text": [
            "6.86 µs ± 1.58 µs per loop (mean ± std. dev. of 100 runs, 1000 loops each)\n"
          ]
        }
      ]
    },
    {
      "cell_type": "code",
      "source": [
        "# comparativo de tempo de processamento\n",
        "# 120000 itens\n",
        "%timeit -n 1000 -r 100 %timeit\n",
        "media_dez_mil = media_area(remover_area_zero(gestures_dez_mil))"
      ],
      "metadata": {
        "colab": {
          "base_uri": "https://localhost:8080/"
        },
        "id": "ikgCtGN1CG8t",
        "outputId": "cd6fc375-07ad-47dc-d4b8-14de353baad1"
      },
      "execution_count": null,
      "outputs": [
        {
          "output_type": "stream",
          "name": "stdout",
          "text": [
            "7.44 µs ± 798 ns per loop (mean ± std. dev. of 100 runs, 1000 loops each)\n"
          ]
        }
      ]
    }
  ]
}