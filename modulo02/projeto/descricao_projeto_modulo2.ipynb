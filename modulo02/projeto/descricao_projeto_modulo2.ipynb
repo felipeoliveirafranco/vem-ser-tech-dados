{
  "nbformat": 4,
  "nbformat_minor": 0,
  "metadata": {
    "colab": {
      "provenance": []
    },
    "kernelspec": {
      "name": "python3",
      "display_name": "Python 3"
    },
    "language_info": {
      "name": "python"
    }
  },
  "cells": [
    {
      "cell_type": "markdown",
      "source": [
        "# Projeto Final de Lógica de Programação com Python II\n",
        "\n",
        "Professor Roberto Pontes"
      ],
      "metadata": {
        "id": "5i7y09OfzS4H"
      }
    },
    {
      "cell_type": "markdown",
      "source": [
        "## Descrição\n",
        "\n",
        "* Ler uma lista de objetos de um JSON;\n",
        "\n",
        "* Realizar um mapeamento, um filtro e uma redução;\n",
        "\n",
        "* Permitir que os dados possam ser lidos individualmente, atualizados e deletados (manter JSON atualizado);\n",
        "\n",
        "* Garantir que todas as operações tenham validações (try-except, raise);\n",
        "\n",
        "* Obter algum dado estatístico simples, como média de um grupo (exemplo, a média de idade dos professores que dão aula de exatas, caso o conjunto de dados seja do tema professores);\n",
        "\n",
        "* Criar uma função para obter uma lista de tuplas, com o máximo (ou o mínimo) valor de algum atributo numérico, com o primeira posição contendo o nome do elemento e a segunda o valor máximo (o motivo de ser lista é porque pode ter mais de um elemento com valor máximo);\n",
        "\n",
        "* Esta função deve ter um parâmetro opcional, que diz qual das estatísticas você deseja obter (mínimo ou máximo);\n",
        "\n",
        "* Obter algum dado estatístico simples, como média, máximo e mínimo (exemplo, a média de idade dos professores que dão aula de exatas, caso o conjunto de dados seja do tema professores);\n",
        "\n",
        "* Salvar dados estatísticos em um CSV.\n",
        "\n"
      ],
      "metadata": {
        "id": "qpx6fvfjzN3c"
      }
    },
    {
      "cell_type": "markdown",
      "source": [
        "### Apresentação\n",
        "\n",
        "* Apresentar no dia 22/11;\n",
        "* Apresentação COMERCIAL/TÉCNICA em 7 ~10 Min.;\n",
        "* Entregar link do github até 24/11."
      ],
      "metadata": {
        "id": "XVEqnABYz38E"
      }
    }
  ]
}