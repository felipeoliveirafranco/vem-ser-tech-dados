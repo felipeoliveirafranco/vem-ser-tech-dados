{
  "cells": [
    {
      "cell_type": "markdown",
      "metadata": {
        "id": "Vps_2ZpqzL64"
      },
      "source": [
        "# Exercícios da plataforma de estudos"
      ]
    },
    {
      "cell_type": "markdown",
      "metadata": {
        "id": "orKotw1RowPm"
      },
      "source": [
        "### Exercício 1"
      ]
    },
    {
      "cell_type": "markdown",
      "metadata": {
        "id": "DvF0ajeSzVeN"
      },
      "source": [
        "Elementos individuais de listas\n",
        "\n",
        "Muitas vezes, precisamos acessar elementos individuais de listas, o que é possível de ser feito a partir de sua indexação.\n",
        "\n",
        "Sabendo disso, crie uma função `retornaPenultimoEQuartoElementodeLista()` que recebe uma lista e retorne o quarto e o penúltimo elemento desta lista, nesta ordem."
      ]
    },
    {
      "cell_type": "code",
      "execution_count": null,
      "metadata": {
        "id": "o0pCAGMOzLU5"
      },
      "outputs": [],
      "source": [
        "def retornaPenultimoEQuartoElementodeLista(tuplaA):\n",
        "\tif len(tuplaA) >= 4:\n",
        "\t\tpenultimo = tuplaA[-2]\n",
        "\t\tquarto = tuplaA[3]\n",
        "\t\treturn ([quarto, penultimo])"
      ]
    },
    {
      "cell_type": "code",
      "execution_count": null,
      "metadata": {
        "colab": {
          "base_uri": "https://localhost:8080/"
        },
        "id": "MwtPvnbtzpHL",
        "outputId": "b1655bdc-2436-4e1b-ab4f-81b8a05bcf77"
      },
      "outputs": [
        {
          "data": {
            "text/plain": [
              "[15, 6]"
            ]
          },
          "execution_count": 2,
          "metadata": {},
          "output_type": "execute_result"
        }
      ],
      "source": [
        "retornaPenultimoEQuartoElementodeLista([\n",
        "  18,\n",
        "  44,\n",
        "  44,\n",
        "  15,\n",
        "  9,\n",
        "  61,\n",
        "  14,\n",
        "  34,\n",
        "  6,\n",
        "  29\n",
        "])"
      ]
    },
    {
      "cell_type": "markdown",
      "metadata": {
        "id": "5XgN4I0NosVW"
      },
      "source": [
        "### Exercício 2"
      ]
    },
    {
      "cell_type": "markdown",
      "metadata": {
        "id": "H49KIm-pzrLE"
      },
      "source": [
        "Indexação de listas e último elemento\n",
        "\n",
        "Uma lista possui n elementos, sendo comum executarmos determinadas ações em um elemento de determinada posição. Por exemplo, podemos substituir o elemento da primeira posição da lista por outro valor desejado. Quando selecionamos um elemento, chamamos isto de indexação.\n",
        "\n",
        "Sendo assim, escreva uma função ultimoElemento() em python que recebe uma lista e retorna o último elemento da lista."
      ]
    },
    {
      "cell_type": "code",
      "execution_count": null,
      "metadata": {
        "id": "oZBBv813zxQv"
      },
      "outputs": [],
      "source": [
        "def ultimoElemento(listaA):\n",
        "\treturn (listaA[-1])"
      ]
    },
    {
      "cell_type": "code",
      "execution_count": null,
      "metadata": {
        "colab": {
          "base_uri": "https://localhost:8080/"
        },
        "id": "7Gf4K-lE0Dsf",
        "outputId": "308bfb3a-9421-459b-8980-90e1732fe6c6"
      },
      "outputs": [
        {
          "data": {
            "text/plain": [
              "85"
            ]
          },
          "execution_count": 4,
          "metadata": {},
          "output_type": "execute_result"
        }
      ],
      "source": [
        "ultimoElemento([\n",
        "  20,\n",
        "  88,\n",
        "  55,\n",
        "  7,\n",
        "  85\n",
        "])"
      ]
    },
    {
      "cell_type": "markdown",
      "metadata": {
        "id": "kGhUNF-DopAL"
      },
      "source": [
        "### Exercício 3"
      ]
    },
    {
      "cell_type": "markdown",
      "metadata": {
        "id": "MqPqJdVy0GDP"
      },
      "source": [
        "Ordenando listas\n",
        "\n",
        "Em um sistema, comumente utilizamos listas para armazenamento de dados. Entretanto, existem casos em que torna-se necessário criarmos um padrão de organização dos dados. Por exemplo, podemos organizar um cadastro de clientes pela idade destes usuários. Este procedimento de organização é conhecido como ordenação.\n",
        "\n",
        "Sabendo disso, crie uma função chamada `ordena_lista()` que recebe uma lista de elementos e ordene-os em ordem decrescente. A função possui como parâmetro a lista a ser ordenada e retorna a mesma lista ordenada de forma decrescente."
      ]
    },
    {
      "cell_type": "code",
      "execution_count": null,
      "metadata": {
        "id": "ozcV58EU0Lt4"
      },
      "outputs": [],
      "source": [
        "def ordena_lista(listaA):\n",
        "\treturn (sorted(listaA, reverse=True))"
      ]
    },
    {
      "cell_type": "code",
      "execution_count": null,
      "metadata": {
        "colab": {
          "base_uri": "https://localhost:8080/"
        },
        "id": "rGI7PPdu0oqj",
        "outputId": "21594719-fae3-4787-944b-7865d405e3b7"
      },
      "outputs": [
        {
          "data": {
            "text/plain": [
              "[100, 88, 32, 27, 14, 5, 2, 0]"
            ]
          },
          "execution_count": 14,
          "metadata": {},
          "output_type": "execute_result"
        }
      ],
      "source": [
        "ordena_lista([\n",
        "  27,\n",
        "  0,\n",
        "  32,\n",
        "  100,\n",
        "  2,\n",
        "  14,\n",
        "  5,\n",
        "  88\n",
        "])"
      ]
    },
    {
      "cell_type": "markdown",
      "metadata": {
        "id": "pzhzILRpolYc"
      },
      "source": [
        "> Exercício com erro na plataforma"
      ]
    },
    {
      "cell_type": "markdown",
      "metadata": {
        "id": "1Xco9xC5oiKX"
      },
      "source": [
        "### Exercício 4"
      ]
    },
    {
      "cell_type": "markdown",
      "metadata": {
        "id": "kTWq6DM-17Cb"
      },
      "source": [
        "Remover elementos de listas\n",
        "\n",
        "Considere que uma empresa desenvolveu uma aplicação que solicita ao usuário uma dada informação, como, por exemplo, o segundo nome deste usuário. O programa recebe essa informação e armazena em uma lista de strings. Entretanto, caso um usuário acidentalmente não tenha preenchido esta informação, a lista conterá elementos vazios. Por exemplo, dada uma lista com 5 nomes: `listaDeNomes = ['Araújo', 'Alexandre', 'Silva', 'Flávio', '']`, note que o último elemento da lista é apenas uma string vazia representada pelas aspas vazias.\n",
        "\n",
        "Sabendo disso, faça uma função `removerElementosVazios(`) que recebe uma lista de nomes e retorna a lista sem os elementos vazios."
      ]
    },
    {
      "cell_type": "code",
      "execution_count": null,
      "metadata": {
        "id": "orRPFcxO2aWT"
      },
      "outputs": [],
      "source": [
        "def removerElementosVazios(listaA):\n",
        "    listaA = [nome for nome in listaA if len(nome) > 0]\n",
        "    return listaA"
      ]
    },
    {
      "cell_type": "code",
      "execution_count": null,
      "metadata": {
        "colab": {
          "base_uri": "https://localhost:8080/"
        },
        "id": "tBRFjvZq3cbG",
        "outputId": "3c1695d1-6e3b-40ad-b867-5ed3aebfa8e3"
      },
      "outputs": [
        {
          "data": {
            "text/plain": [
              "['Maria', 'Coutinho']"
            ]
          },
          "execution_count": 28,
          "metadata": {},
          "output_type": "execute_result"
        }
      ],
      "source": [
        "removerElementosVazios([\n",
        "  \"\",\n",
        "  \"\",\n",
        "  \"Maria\",\n",
        "  \"Coutinho\",\n",
        "  \"\"\n",
        "])"
      ]
    },
    {
      "cell_type": "markdown",
      "metadata": {
        "id": "Hw0LxqTAoegl"
      },
      "source": [
        "### Exercício 5"
      ]
    },
    {
      "cell_type": "markdown",
      "metadata": {
        "id": "SSQnEmEF3fuy"
      },
      "source": [
        "Slice\n",
        "\n",
        "Apesar de utilizarmos listas para armazenar vários elementos, existem situações em que precisamos utilizar apenas parte desta lista. Por exemplo, podemos guardar em uma lista de 30 elementos com o registro do preço do dólar a cada dia nos últimos 30 dias. Posteriormente, podemos querer visualizar o custo do dólar apenas nos últimos 7 dias, para isso pegando os últimos 7 elementos da lista ao invés de 30.\n",
        "\n",
        "Em python, quando selecionamos partes da lista, denominamos esta operação de slicing, podendo ser realizada não apenas para seleção dos últimos elementos da lista, como também elementos em qualquer posição da lista.\n",
        "\n",
        "Sabendo disso, crie uma função `particionarLista()` em python que recebe uma lista e retorne apenas os elementos das posições 5 até 12."
      ]
    },
    {
      "cell_type": "code",
      "execution_count": null,
      "metadata": {
        "id": "KqMAuiVy3k8D"
      },
      "outputs": [],
      "source": [
        "def particionarLista(listaA):\n",
        "\treturn listaA[5:13]"
      ]
    },
    {
      "cell_type": "code",
      "execution_count": null,
      "metadata": {
        "colab": {
          "base_uri": "https://localhost:8080/"
        },
        "id": "QXmuCuDC4Ndu",
        "outputId": "d0fe1de7-96c6-4ea0-fa17-5dea577f7efe"
      },
      "outputs": [
        {
          "data": {
            "text/plain": [
              "[25, 20, 48, 28, 22, 25, 20]"
            ]
          },
          "execution_count": 32,
          "metadata": {},
          "output_type": "execute_result"
        }
      ],
      "source": [
        "particionarLista([\n",
        "  18,\n",
        "  9,\n",
        "  31,\n",
        "  11,\n",
        "  50,\n",
        "  25,\n",
        "  20,\n",
        "  48,\n",
        "  28,\n",
        "  22,\n",
        "  25,\n",
        "  20\n",
        "])"
      ]
    },
    {
      "cell_type": "code",
      "execution_count": null,
      "metadata": {
        "colab": {
          "base_uri": "https://localhost:8080/"
        },
        "id": "ZGli1pbR37fi",
        "outputId": "a3725cd7-d373-4e29-a71e-d123722455a9"
      },
      "outputs": [
        {
          "data": {
            "text/plain": [
              "[44, 23, 6, 48, 37, 50, 25, 47]"
            ]
          },
          "execution_count": 34,
          "metadata": {},
          "output_type": "execute_result"
        }
      ],
      "source": [
        "particionarLista([\n",
        "  38,\n",
        "  25,\n",
        "  5,\n",
        "  11,\n",
        "  45,\n",
        "  44,\n",
        "  23,\n",
        "  6,\n",
        "  48,\n",
        "  37,\n",
        "  50,\n",
        "  25,\n",
        "  47,\n",
        "  23,\n",
        "  42,\n",
        "  33\n",
        "])"
      ]
    },
    {
      "cell_type": "markdown",
      "metadata": {
        "id": "bZzNls5voZui"
      },
      "source": [
        "> Exercício com erro na plataforma"
      ]
    },
    {
      "cell_type": "markdown",
      "metadata": {
        "id": "NYWsmPZqoPF_"
      },
      "source": [
        "### Exercício 6"
      ]
    },
    {
      "cell_type": "markdown",
      "metadata": {
        "id": "LiAjWy0F51B5"
      },
      "source": [
        "Adicionar elementos em listas\n",
        "\n",
        "Quando utilizamos listas, uma das vantagens é que podemos adicionar novos elementos com o passar do tempo. Podemos inserir elementos tanto ao final da lista, como também em uma posição específica.\n",
        "\n",
        "Sabendo disso, faça uma função `adicionarElemento()` que recebe uma lista de números e insere o número inteiro 42 no meio da lista (isto é, em sua posição central). Note que a posição de inserção pode variar a depender da quantidade de elementos na lista original."
      ]
    },
    {
      "cell_type": "code",
      "execution_count": null,
      "metadata": {
        "id": "M3uf4-4_9uMM"
      },
      "outputs": [],
      "source": [
        "def adicionarElemento(listaA):\n",
        "    meio = len(listaA) // 2\n",
        "    if len(listaA) % 2 != 0:\n",
        "      meio += meio\n",
        "    listaA.insert(meio, 42)\n",
        "    return listaA"
      ]
    },
    {
      "cell_type": "code",
      "execution_count": null,
      "metadata": {
        "colab": {
          "base_uri": "https://localhost:8080/"
        },
        "id": "dV2QokjC7tKC",
        "outputId": "3af1cb17-89cc-4ada-da03-d2f79d533a15"
      },
      "outputs": [
        {
          "data": {
            "text/plain": [
              "[7, 23, 42, 8]"
            ]
          },
          "execution_count": 62,
          "metadata": {},
          "output_type": "execute_result"
        }
      ],
      "source": [
        "adicionarElemento([\n",
        "  7,\n",
        "  23,\n",
        "  8\n",
        "])"
      ]
    },
    {
      "cell_type": "code",
      "execution_count": null,
      "metadata": {
        "colab": {
          "base_uri": "https://localhost:8080/"
        },
        "id": "aAHRpNc2-sri",
        "outputId": "f4296ef1-bc57-4ed6-94dc-5202fc3a149c"
      },
      "outputs": [
        {
          "data": {
            "text/plain": [
              "[47, 29, 38, 36, 45, 42, 46, 45, 15, 42, 14]"
            ]
          },
          "execution_count": 63,
          "metadata": {},
          "output_type": "execute_result"
        }
      ],
      "source": [
        "adicionarElemento([\n",
        "  47,\n",
        "  29,\n",
        "  38,\n",
        "  36,\n",
        "  45,\n",
        "  46,\n",
        "  45,\n",
        "  15,\n",
        "  42,\n",
        "  14\n",
        "])"
      ]
    },
    {
      "cell_type": "markdown",
      "metadata": {
        "id": "Fz8o1a70oRzX"
      },
      "source": [
        "> Exercício com erro na plataforma"
      ]
    },
    {
      "cell_type": "markdown",
      "metadata": {
        "id": "AqMEdGHRoJzM"
      },
      "source": [
        "### Exercício 7"
      ]
    },
    {
      "cell_type": "markdown",
      "metadata": {
        "id": "NHmdGZuh_PVv"
      },
      "source": [
        "Elemento e índice\n",
        "\n",
        "Em python, muitas vezes é útil iterarmos tanto pelos elementos quanto pelos índices de listas. Sabendo disso, crie uma função `calculaPotencia()` que recebe uma lista A e retorna uma lista B, tal que os elementos desta lista sejam iguais aos elementos da lista A elevado a potência igual ao índice do respectivo elemento.\n",
        "\n",
        "Por exemplo, dado uma `lista A = [2,5,6]`, gere uma `lista B = [2^0, 5^1, 6^2]`."
      ]
    },
    {
      "cell_type": "code",
      "execution_count": 1,
      "metadata": {
        "id": "dCH4i9ESiqC7"
      },
      "outputs": [],
      "source": [
        "def calculaPotencia(tuplaA):\n",
        "    resultado = [numero ** indice for indice, numero in enumerate(tuplaA)]\n",
        "    return resultado"
      ]
    },
    {
      "cell_type": "code",
      "execution_count": 2,
      "metadata": {
        "colab": {
          "base_uri": "https://localhost:8080/"
        },
        "id": "JfVbKK3vi1IG",
        "outputId": "656f4b3f-d34b-4286-c7b5-ae55a26d19c1"
      },
      "outputs": [
        {
          "data": {
            "text/plain": [
              "[1, 40]"
            ]
          },
          "execution_count": 2,
          "metadata": {},
          "output_type": "execute_result"
        }
      ],
      "source": [
        "calculaPotencia([\n",
        "  24,\n",
        "  40\n",
        "])"
      ]
    },
    {
      "cell_type": "markdown",
      "metadata": {
        "id": "1L7raGCToD-0"
      },
      "source": [
        "### Exercício 8"
      ]
    },
    {
      "cell_type": "markdown",
      "metadata": {
        "id": "bxRMdqWsi1T2"
      },
      "source": [
        "Função zip\n",
        "\n",
        "Em programação, podemos fazer uso de diferentes listas para armazenar nossos dados para, posteriormente, unir informações destas listas. Por exemplo, podemos guardar em uma lista os nomes de funcionários de uma empresa e, em outra lista, os cargos que estes funcionários ocupam.\n",
        "\n",
        "```\n",
        "funcionarios = [\"Paulo\", \"Andrea\", \"Marta\"]\n",
        "profissao = [\"cientista de dados\", \"engenheiro de dados\", \"desenvolvedor\"]\n",
        "```\n",
        "\n",
        "Dado essas duas listas, podemos querer exibir as duas informações conjuntamente da seguinte forma:\n",
        "\n",
        "```\n",
        "[('Paulo', 'cientista de dados'), ('Andrea', 'engenheiro de dados'), ('Marta', 'desenvolvedor')]\n",
        "```\n",
        "\n",
        "Podemos fazer isto por meio da função zip que recebe as duas listas e retorna uma saída como exposta acima. Além de exibir os valores, podemos fazer uso da função zip para diversas funcionalidades. Sabendo disso, crie uma função `ultimoElementoLista2D()` que receba uma lista de duas dimensões (isto é, uma lista de listas, na forma de matriz) e utilize o zip para retornar o último elemento de cada sublista.\n",
        "\n",
        "Por exemplo, se tivermos a lista abaixo:\n",
        "\n",
        "```\n",
        "[[192, 193, 194],\n",
        " [507, 508, 509],\n",
        " [526, 527, 528, 529],\n",
        " [560, 561],\n",
        " [635, 636, 637]]\n",
        " ```\n",
        "\n",
        "```\n",
        "Retorne [194, 509, 529, 561, 637]\n",
        "```"
      ]
    },
    {
      "cell_type": "code",
      "execution_count": 17,
      "metadata": {
        "id": "CUckU2Q6jqma"
      },
      "outputs": [],
      "source": [
        "def ultimoElementoLista2D(listaA):\n",
        "    resultado = [sublista[-1] for sublista in listaA]\n",
        "    return resultado"
      ]
    },
    {
      "cell_type": "code",
      "execution_count": 18,
      "metadata": {
        "colab": {
          "base_uri": "https://localhost:8080/"
        },
        "id": "e5RSMhn_jquA",
        "outputId": "76f36e84-619b-42a2-a486-5fe849ac5661"
      },
      "outputs": [
        {
          "data": {
            "text/plain": [
              "[194, 509, 529, 561, 637]"
            ]
          },
          "execution_count": 18,
          "metadata": {},
          "output_type": "execute_result"
        }
      ],
      "source": [
        "ultimoElementoLista2D([[192, 193, 194],\n",
        " [507, 508, 509],\n",
        " [526, 527, 528, 529],\n",
        " [560, 561],\n",
        " [635, 636, 637]])"
      ]
    }
  ],
  "metadata": {
    "colab": {
      "provenance": []
    },
    "kernelspec": {
      "display_name": "Python 3",
      "name": "python3"
    },
    "language_info": {
      "name": "python"
    }
  },
  "nbformat": 4,
  "nbformat_minor": 0
}
