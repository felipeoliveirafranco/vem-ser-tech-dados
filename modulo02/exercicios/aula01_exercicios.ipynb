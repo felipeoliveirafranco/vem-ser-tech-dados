{
  "nbformat": 4,
  "nbformat_minor": 0,
  "metadata": {
    "colab": {
      "provenance": []
    },
    "kernelspec": {
      "name": "python3",
      "display_name": "Python 3"
    },
    "language_info": {
      "name": "python"
    }
  },
  "cells": [
    {
      "cell_type": "markdown",
      "source": [
        "# Lógica de Programação com Python II\n",
        "\n",
        "Professor Roberto Pontes\n"
      ],
      "metadata": {
        "id": "O5qcA2ACSfli"
      }
    },
    {
      "cell_type": "markdown",
      "source": [
        ">Nesse notebook você encontrará os exercícios da aula 01. Devemos resolver de forma mais eficiente e sucinta usando listas e/ou tuplas."
      ],
      "metadata": {
        "id": "uaGf1UAxTOVr"
      }
    },
    {
      "cell_type": "markdown",
      "source": [
        "### Exercício 01"
      ],
      "metadata": {
        "id": "cwMLSFIOUNDz"
      }
    },
    {
      "cell_type": "markdown",
      "source": [
        "Faça um programa que olhe todos os itens de uma lista e diga quantos deles são pares."
      ],
      "metadata": {
        "id": "taOcjdZzTYfC"
      }
    },
    {
      "cell_type": "code",
      "source": [
        "lista = [99, 15, 58, 18, 135, 92]\n",
        "contagem = 0\n",
        "\n",
        "for numero in lista:\n",
        "    if numero % 2 == 0:\n",
        "        contagem += 1\n",
        "\n",
        "print(f\"Temos na lista {contagem} números que são pares.\")"
      ],
      "metadata": {
        "colab": {
          "base_uri": "https://localhost:8080/"
        },
        "id": "L1OFCWQtWPzo",
        "outputId": "eb2767c0-ae6a-4b88-fa69-5c0369a0c758"
      },
      "execution_count": null,
      "outputs": [
        {
          "output_type": "stream",
          "name": "stdout",
          "text": [
            "Temos na lista 3 números que são pares.\n"
          ]
        }
      ]
    },
    {
      "cell_type": "markdown",
      "source": [
        "### Exercício 02"
      ],
      "metadata": {
        "id": "QHjWlml9USB8"
      }
    },
    {
      "cell_type": "markdown",
      "source": [
        "Faça um programa que imprima o maior número de uma lista, sem usar o método max()."
      ],
      "metadata": {
        "id": "x-SV5no8T0Ot"
      }
    },
    {
      "cell_type": "code",
      "source": [
        "lista = [99, 15, 58, 18, 135, 92]\n",
        "maior = lista[0]\n",
        "\n",
        "for numero in lista:\n",
        "    if numero > maior:\n",
        "        maior = numero\n",
        "\n",
        "print(f\"O maior número é {maior}.\")"
      ],
      "metadata": {
        "colab": {
          "base_uri": "https://localhost:8080/"
        },
        "id": "fOBh4kTJT3sR",
        "outputId": "208fffe0-2cab-4cba-977f-485e97d6e4a5"
      },
      "execution_count": null,
      "outputs": [
        {
          "output_type": "stream",
          "name": "stdout",
          "text": [
            "O maior número é 135.\n"
          ]
        }
      ]
    },
    {
      "cell_type": "markdown",
      "source": [
        "### Exercício 03"
      ],
      "metadata": {
        "id": "GgN45yJmUUw6"
      }
    },
    {
      "cell_type": "markdown",
      "source": [
        "Faça um Programa que peça as 4 notas bimestrais e mostre a média, usando listas.\n",
        "\n"
      ],
      "metadata": {
        "id": "qQB9PwmqT35f"
      }
    },
    {
      "cell_type": "code",
      "source": [
        "notas = list()\n",
        "\n",
        "for i in range(1, 5):\n",
        "    nota = float(input(f\"Qual a nota do {i}º bimestre? \"))\n",
        "    notas.append(nota)\n",
        "\n",
        "media = sum(notas) / len(notas)\n",
        "\n",
        "print(f\"A média das notas é {media}.\")"
      ],
      "metadata": {
        "colab": {
          "base_uri": "https://localhost:8080/"
        },
        "id": "ULekhnH_T8pS",
        "outputId": "15154938-d507-493a-d0b5-b62cd93788e2"
      },
      "execution_count": null,
      "outputs": [
        {
          "output_type": "stream",
          "name": "stdout",
          "text": [
            "Qual a nota do 1º bimestre? 10\n",
            "Qual a nota do 2º bimestre? 6\n",
            "Qual a nota do 3º bimestre? 8\n",
            "Qual a nota do 4º bimestre? 2\n",
            "A média das notas é 6.5.\n"
          ]
        }
      ]
    },
    {
      "cell_type": "markdown",
      "source": [
        "### Exercício 04"
      ],
      "metadata": {
        "id": "NyoKDQ53UX_l"
      }
    },
    {
      "cell_type": "markdown",
      "source": [
        "Considere que temos uma lista com os nomes de todos os alunos de uma turma, e outra com as notas, na mesma ordem. Como faríamos para acessar, simultaneamente, o nome de um aluno e a sua nota?\n"
      ],
      "metadata": {
        "id": "gVY17wE3T88y"
      }
    },
    {
      "cell_type": "code",
      "source": [
        "nomes = [\"Felipe\", \"Roberto\", \"Maria\", \"Marcela\"]\n",
        "notas = [10, 2, 8, 5]\n",
        "\n",
        "for nome, nota in zip(nomes, notas):\n",
        "    print(f\"{nome} teve a nota {nota}.\")"
      ],
      "metadata": {
        "colab": {
          "base_uri": "https://localhost:8080/"
        },
        "id": "2joJVxSVT_4E",
        "outputId": "fb1c1981-0f94-4d1e-aa11-f753dfd6c243"
      },
      "execution_count": null,
      "outputs": [
        {
          "output_type": "stream",
          "name": "stdout",
          "text": [
            "Felipe teve a nota 10.\n",
            "Roberto teve a nota 2.\n",
            "Maria teve a nota 8.\n",
            "Marcela teve a nota 5.\n"
          ]
        }
      ]
    },
    {
      "cell_type": "markdown",
      "source": [
        "### Exercício 05"
      ],
      "metadata": {
        "id": "FcBrPk59UZf2"
      }
    },
    {
      "cell_type": "markdown",
      "source": [
        "Para que a entrega de alimentos seja feita com qualidade por um serviço de delivery, é muito importante que as caixas de transporte utilizadas por entregadores tenham um revestimento térmico interno, para manter a temperatura dos alimentos. Muitos destes revestimentos são importados de países que utilizam diferentes escalas de temperatura, de modo que as especificações quanto às temperaturas de operação podem gerar confusão.\n",
        "\n",
        "Pensando nisso, escreva um código em Python que recebe um número (que possa ter casas decimais) e a escala de temperatura em que este valor se encontra e para qual ele deseja converter (Celsius, Kelvin ou Fahrenheit). Tanto na escala em que se encontra quanto para a que deseja converter, utilize as letras iniciais como entrada: Celsius - 'C', Kelvin - 'K' ou Fahrenheit - 'F'.\n",
        "\n",
        "Importante: o programa deve trabalhar apenas com as 3 escalas supracitadas! Então, não deixe de fazer as validações necessárias. Além disso, por definição, não existem temperaturas em Kelvin abaixo de zero (o valor zero pode existir), portanto verifique também esta condição para que sejam feitas conversões válidas!"
      ],
      "metadata": {
        "id": "Q4UrlWvhUACl"
      }
    },
    {
      "cell_type": "code",
      "source": [
        "print(\"Em qual escala está a temperatura que você quer converter?\")\n",
        "print(\"Digite C para Celsius, K para Kelvin ou F para Fahrenheit.\")\n",
        "escolha = input().upper()\n",
        "print(\"Qual é o valor da temperatura na escala que você quer converter?\")\n",
        "temperatura = float(input())\n",
        "print(\"Em qual escala está a temperatura para a qual você quer converter?\")\n",
        "conversao = input().upper()\n",
        "\n",
        "# Celsius\n",
        "if escolha == 'C':\n",
        "    if (conversao == 'K' and temperatura >= -273.15):\n",
        "        temperatura_convertida = temperatura + 273.15\n",
        "    elif conversao == 'F':\n",
        "        temperatura_convertida = (temperatura * 9/5) + 32\n",
        "    else:\n",
        "        print(\"Opção inválida.\")\n",
        "    print(f\"A temperatura em {escolha} corresponde a {temperatura_convertida} em {conversao}\")\n",
        "\n",
        "# Kelvin\n",
        "elif (escolha == 'K' and temperatura >= 0):\n",
        "    if conversao == 'C':\n",
        "        temperatura_convertida = temperatura - 273.15\n",
        "    elif conversao == 'F':\n",
        "        temperatura_convertida = (temperatura - 273.15) * 9/5 + 32\n",
        "    else:\n",
        "        print(\"Opção inválida.\")\n",
        "    print(f\"A temperatura em {escolha} corresponde a {temperatura_convertida} em {conversao}\")\n",
        "\n",
        "# Fahrenheit\n",
        "elif escolha == 'F':\n",
        "    if conversao == 'C':\n",
        "        temperatura_convertida = (temperatura - 32) * 5/9\n",
        "    elif conversao == 'K' and temperatura >= -459.67:\n",
        "        temperatura_convertida = (temperatura + 459.67) * 5/9\n",
        "    else:\n",
        "        print(\"Opção inválida.\")\n",
        "    print(f\"A temperatura em {escolha} corresponde a {temperatura_convertida} em {conversao}\")\n",
        "else:\n",
        "    print(\"Opção inválida.\")"
      ],
      "metadata": {
        "colab": {
          "base_uri": "https://localhost:8080/"
        },
        "id": "U3jgVwSYPcso",
        "outputId": "58cdedfd-f375-4f5d-9816-bf8ca2724fea"
      },
      "execution_count": 5,
      "outputs": [
        {
          "output_type": "stream",
          "name": "stdout",
          "text": [
            "Em qual escala está a temperatura que você quer converter?\n",
            "Digite C para Celsius, K para Kelvin ou F para Fahrenheit.\n",
            "C\n",
            "Qual é o valor da temperatura na escala que você quer converter?\n",
            "36\n",
            "Em qual escala está a temperatura para a qual você quer converter?\n",
            "F\n",
            "A temperatura em C corresponde a 96.8 em F\n"
          ]
        }
      ]
    }
  ]
}